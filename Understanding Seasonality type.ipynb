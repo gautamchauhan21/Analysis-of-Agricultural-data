{
 "cells": [
  {
   "cell_type": "markdown",
   "metadata": {},
   "source": [
    "# Understanding Seasonality type "
   ]
  },
  {
   "cell_type": "code",
   "execution_count": 1,
   "metadata": {},
   "outputs": [
    {
     "data": {
      "text/html": [
       "<script type=\"text/javascript\">window.PlotlyConfig = {MathJaxConfig: 'local'};</script><script type=\"text/javascript\">if (window.MathJax) {MathJax.Hub.Config({SVG: {font: \"STIX-Web\"}});}</script><script>requirejs.config({paths: { 'plotly': ['https://cdn.plot.ly/plotly-latest.min']},});if(!window._Plotly) {require(['plotly'],function(plotly) {window._Plotly=plotly;});}</script>"
      ],
      "text/vnd.plotly.v1+html": [
       "<script type=\"text/javascript\">window.PlotlyConfig = {MathJaxConfig: 'local'};</script><script type=\"text/javascript\">if (window.MathJax) {MathJax.Hub.Config({SVG: {font: \"STIX-Web\"}});}</script><script>requirejs.config({paths: { 'plotly': ['https://cdn.plot.ly/plotly-latest.min']},});if(!window._Plotly) {require(['plotly'],function(plotly) {window._Plotly=plotly;});}</script>"
      ]
     },
     "metadata": {},
     "output_type": "display_data"
    }
   ],
   "source": [
    "#importing modules\n",
    "import numpy as np\n",
    "import pandas as pd\n",
    "import matplotlib.pyplot as plt\n",
    "from statsmodels.tsa.seasonal import seasonal_decompose\n",
    "import statsmodels.api as sm\n",
    "import warnings\n",
    "\n",
    "warnings.filterwarnings('ignore')\n",
    "%matplotlib inline\n",
    "\n",
    "import plotly.plotly as py\n",
    "import plotly.graph_objs as go\n",
    "from plotly.offline import iplot\n",
    "import plotly.offline as offline\n",
    "offline.init_notebook_mode(connected=True)\n",
    "\n",
    "#Reading the data\n",
    "monthly_data = pd.read_csv(\"/Users/gautamchauhan21/social cops/Analysis-of-Agricultural-data/monthly_data_1.csv\")\n",
    "mandi_data = pd.read_csv(\"/Users/gautamchauhan21/social cops/Analysis-of-Agricultural-data/mandi_data_1.csv\")"
   ]
  },
  {
   "cell_type": "markdown",
   "metadata": {},
   "source": [
    "### Keeping only clusters of APMC and Commodity which have data present for atleast an year"
   ]
  },
  {
   "cell_type": "code",
   "execution_count": 2,
   "metadata": {},
   "outputs": [],
   "source": [
    "monthly_data['date'] = pd.to_datetime(monthly_data.date) \n",
    "\n",
    "monthly_data = monthly_data.drop(['state_name','Month'],axis=1)\n",
    "monthly_data.reset_index(inplace=True,drop=True)\n",
    "monthly_data['month'] = pd.DatetimeIndex(monthly_data['date']).month"
   ]
  },
  {
   "cell_type": "code",
   "execution_count": 3,
   "metadata": {
    "scrolled": true
   },
   "outputs": [
    {
     "data": {
      "text/plain": [
       "APMC                       object\n",
       "Commodity                  object\n",
       "Year                        int64\n",
       "arrivals_in_qtl             int64\n",
       "min_price                   int64\n",
       "max_price                   int64\n",
       "modal_price                 int64\n",
       "date               datetime64[ns]\n",
       "district_name              object\n",
       "month                       int64\n",
       "dtype: object"
      ]
     },
     "execution_count": 3,
     "metadata": {},
     "output_type": "execute_result"
    }
   ],
   "source": [
    "monthly_data.dtypes"
   ]
  },
  {
   "cell_type": "code",
   "execution_count": 4,
   "metadata": {},
   "outputs": [],
   "source": [
    "grouped = monthly_data.groupby(['Commodity','APMC','Year']).date.agg('count').to_frame('count')\n",
    "grouped = grouped.reset_index()\n",
    "grouped[\"joined\"]=grouped[\"Commodity\"]+\"_\"+grouped[\"APMC\"]\n",
    "grouped = grouped[grouped['count']==12]\n",
    "joined = list(grouped.joined.unique())\n",
    "\n",
    "\n",
    "monthly_data[\"joined\"]=monthly_data[\"Commodity\"]+\"_\"+monthly_data[\"APMC\"]\n",
    "joined = list(grouped.joined.unique())\n",
    "monthly_data=monthly_data[monthly_data[\"joined\"].isin(joined)].reset_index(drop=True)"
   ]
  },
  {
   "cell_type": "markdown",
   "metadata": {},
   "source": [
    "### Applying ADF as a unit root test"
   ]
  },
  {
   "cell_type": "code",
   "execution_count": 5,
   "metadata": {},
   "outputs": [],
   "source": [
    "import statsmodels.tsa.stattools as ts\n",
    "\n",
    "\n",
    "def augmented_dickey_fuller_test(df):\n",
    "    stationary = []\n",
    "    non_stat = []\n",
    "    apmc_comm = list(df['joined'].unique())\n",
    "    for ac in apmc_comm:\n",
    "        temp = df.loc[df['joined']==ac]\n",
    "        x = temp.modal_price.values\n",
    "        result = ts.adfuller(x,1)\n",
    "        p_value = result[1]\n",
    "        if p_value > 0.05:\n",
    "            non_stat.append(ac) #Requires Differencing\n",
    "        else:\n",
    "            stationary.append(ac) #Does not require differencing\n",
    "    return non_stat,stationary\n",
    "\n",
    "ns,s = augmented_dickey_fuller_test(monthly_data)"
   ]
  },
  {
   "cell_type": "code",
   "execution_count": 6,
   "metadata": {},
   "outputs": [
    {
     "name": "stdout",
     "output_type": "stream",
     "text": [
      "Number of stationary series with respect to APMC and Commodity: 535\n",
      "Number of non-stationary series are: 175\n"
     ]
    }
   ],
   "source": [
    "print(\"Number of stationary series with respect to APMC and Commodity:\",len(s))\n",
    "print(\"Number of non-stationary series are:\",len(ns))"
   ]
  },
  {
   "cell_type": "code",
   "execution_count": 7,
   "metadata": {
    "scrolled": false
   },
   "outputs": [
    {
     "data": {
      "text/html": [
       "<div>\n",
       "<style scoped>\n",
       "    .dataframe tbody tr th:only-of-type {\n",
       "        vertical-align: middle;\n",
       "    }\n",
       "\n",
       "    .dataframe tbody tr th {\n",
       "        vertical-align: top;\n",
       "    }\n",
       "\n",
       "    .dataframe thead th {\n",
       "        text-align: right;\n",
       "    }\n",
       "</style>\n",
       "<table border=\"1\" class=\"dataframe\">\n",
       "  <thead>\n",
       "    <tr style=\"text-align: right;\">\n",
       "      <th></th>\n",
       "      <th>APMC</th>\n",
       "      <th>Commodity</th>\n",
       "      <th>Year</th>\n",
       "      <th>arrivals_in_qtl</th>\n",
       "      <th>min_price</th>\n",
       "      <th>max_price</th>\n",
       "      <th>modal_price</th>\n",
       "      <th>date</th>\n",
       "      <th>district_name</th>\n",
       "      <th>month</th>\n",
       "      <th>joined</th>\n",
       "    </tr>\n",
       "  </thead>\n",
       "  <tbody>\n",
       "    <tr>\n",
       "      <th>0</th>\n",
       "      <td>jalgaon jamod-aasalgaon</td>\n",
       "      <td>pigeon pea (tur)</td>\n",
       "      <td>2014</td>\n",
       "      <td>1300</td>\n",
       "      <td>4267</td>\n",
       "      <td>4833</td>\n",
       "      <td>4550</td>\n",
       "      <td>2014-09-01</td>\n",
       "      <td>Buldhana</td>\n",
       "      <td>9</td>\n",
       "      <td>pigeon pea (tur)_jalgaon jamod-aasalgaon</td>\n",
       "    </tr>\n",
       "    <tr>\n",
       "      <th>1</th>\n",
       "      <td>umared</td>\n",
       "      <td>pigeon pea (tur)</td>\n",
       "      <td>2014</td>\n",
       "      <td>20</td>\n",
       "      <td>4161</td>\n",
       "      <td>4483</td>\n",
       "      <td>4322</td>\n",
       "      <td>2014-09-01</td>\n",
       "      <td>Nagpur</td>\n",
       "      <td>9</td>\n",
       "      <td>pigeon pea (tur)_umared</td>\n",
       "    </tr>\n",
       "    <tr>\n",
       "      <th>2</th>\n",
       "      <td>kopargaon</td>\n",
       "      <td>maize</td>\n",
       "      <td>2014</td>\n",
       "      <td>59</td>\n",
       "      <td>990</td>\n",
       "      <td>1165</td>\n",
       "      <td>1061</td>\n",
       "      <td>2014-09-01</td>\n",
       "      <td>Ahmadnagar</td>\n",
       "      <td>9</td>\n",
       "      <td>maize_kopargaon</td>\n",
       "    </tr>\n",
       "    <tr>\n",
       "      <th>3</th>\n",
       "      <td>kopargaon</td>\n",
       "      <td>gram</td>\n",
       "      <td>2014</td>\n",
       "      <td>428</td>\n",
       "      <td>2087</td>\n",
       "      <td>2668</td>\n",
       "      <td>2493</td>\n",
       "      <td>2014-09-01</td>\n",
       "      <td>Ahmadnagar</td>\n",
       "      <td>9</td>\n",
       "      <td>gram_kopargaon</td>\n",
       "    </tr>\n",
       "    <tr>\n",
       "      <th>4</th>\n",
       "      <td>umared</td>\n",
       "      <td>gram</td>\n",
       "      <td>2014</td>\n",
       "      <td>612</td>\n",
       "      <td>2526</td>\n",
       "      <td>2789</td>\n",
       "      <td>2657</td>\n",
       "      <td>2014-09-01</td>\n",
       "      <td>Nagpur</td>\n",
       "      <td>9</td>\n",
       "      <td>gram_umared</td>\n",
       "    </tr>\n",
       "  </tbody>\n",
       "</table>\n",
       "</div>"
      ],
      "text/plain": [
       "                      APMC         Commodity  Year  arrivals_in_qtl  \\\n",
       "0  jalgaon jamod-aasalgaon  pigeon pea (tur)  2014             1300   \n",
       "1                   umared  pigeon pea (tur)  2014               20   \n",
       "2                kopargaon             maize  2014               59   \n",
       "3                kopargaon              gram  2014              428   \n",
       "4                   umared              gram  2014              612   \n",
       "\n",
       "   min_price  max_price  modal_price       date district_name  month  \\\n",
       "0       4267       4833         4550 2014-09-01      Buldhana      9   \n",
       "1       4161       4483         4322 2014-09-01        Nagpur      9   \n",
       "2        990       1165         1061 2014-09-01    Ahmadnagar      9   \n",
       "3       2087       2668         2493 2014-09-01    Ahmadnagar      9   \n",
       "4       2526       2789         2657 2014-09-01        Nagpur      9   \n",
       "\n",
       "                                     joined  \n",
       "0  pigeon pea (tur)_jalgaon jamod-aasalgaon  \n",
       "1                   pigeon pea (tur)_umared  \n",
       "2                           maize_kopargaon  \n",
       "3                            gram_kopargaon  \n",
       "4                               gram_umared  "
      ]
     },
     "execution_count": 7,
     "metadata": {},
     "output_type": "execute_result"
    }
   ],
   "source": [
    "monthly_data = monthly_data.sort_values(by=['date'])\n",
    "stationary = monthly_data[monthly_data[\"joined\"].isin(s)].reset_index(drop=True)\n",
    "stationary.head()"
   ]
  },
  {
   "cell_type": "code",
   "execution_count": 8,
   "metadata": {
    "scrolled": true
   },
   "outputs": [
    {
     "data": {
      "image/png": "[encoded data removed]",
      "text/plain": [
       "<matplotlib.figure.Figure at 0x104574f28>"
      ]
     },
     "metadata": {},
     "output_type": "display_data"
    },
    {
     "name": "stdout",
     "output_type": "stream",
     "text": [
      "Shows a seasonal component of 50 rupees, which proves how naive seasonal_decompose() function of python is!\n"
     ]
    }
   ],
   "source": [
    "#Decomposing time series of Commodity = Bajri and APMC = Akole\n",
    "temp = stationary[stationary.joined=='bajri_akole']\n",
    "temp = temp[['modal_price','date']]\n",
    "temp.set_index('date', inplace=True)\n",
    "result = seasonal_decompose(temp.modal_price,freq=4)\n",
    "result.plot()\n",
    "plt.show()\n",
    "print(\"Shows a seasonal component of 50 rupees, which proves how naive seasonal_decompose() function of \\\n",
    "python is!\")"
   ]
  },
  {
   "cell_type": "code",
   "execution_count": 9,
   "metadata": {},
   "outputs": [],
   "source": [
    "#Detrending the stationary series--\n",
    "\n",
    "stationary['j_date'] = stationary[\"joined\"]+\"_\"+stationary[\"Year\"].apply(str)+\"_\"+stationary[\"month\"].apply(str)\n",
    "def detrend(df,s):\n",
    "    final=pd.DataFrame()\n",
    "    for t in s:\n",
    "        temp = df.loc[df['joined']==t]\n",
    "        temp = temp[[\"modal_price\",\"j_date\",\"date\"]] \n",
    "        temp.set_index('date', inplace=True)\n",
    "        cycle, trend = sm.tsa.filters.hpfilter(temp.modal_price,1600)\n",
    "        temp[\"cycle\"] = cycle\n",
    "        temp[\"trend\"] = trend\n",
    "        res = df.merge(temp, on=[\"j_date\",\"modal_price\"])\n",
    "        final = pd.concat([final,res]) \n",
    "    return final\n",
    "stationary = detrend(stationary,s)"
   ]
  },
  {
   "cell_type": "code",
   "execution_count": 10,
   "metadata": {
    "scrolled": false
   },
   "outputs": [
    {
     "data": {
      "image/png": "[encoded data removed]",
      "text/plain": [
       "<matplotlib.figure.Figure at 0x10b641c50>"
      ]
     },
     "metadata": {},
     "output_type": "display_data"
    },
    {
     "name": "stdout",
     "output_type": "stream",
     "text": [
      "Shows a seasonal component of 0.5 rupees, hence no seasonality exists and prices are detrended!\n"
     ]
    }
   ],
   "source": [
    "#Replotting time series of Commodity = Onion and APMC = Lonand\n",
    "temp = stationary[stationary.joined=='bajri_akole']\n",
    "temp = temp[['trend','date','modal_price']]\n",
    "temp.set_index('date', inplace=True)\n",
    "result = seasonal_decompose(temp.trend,freq=4)\n",
    "result.plot()\n",
    "plt.show()\n",
    "print(\"Shows a seasonal component of 0.5 rupees, hence no seasonality exists and prices are detrended!\")"
   ]
  },
  {
   "cell_type": "code",
   "execution_count": 11,
   "metadata": {},
   "outputs": [
    {
     "data": {
      "application/vnd.plotly.v1+json": {
       "config": {
        "linkText": "Export to plot.ly",
        "plotlyServerURL": "https://plot.ly",
        "showLink": true
       },
       "data": [
        {
         "line": {
          "color": "rgb(205, 12, 24)",
          "dash": "dashdot",
          "width": 4
         },
         "name": "Modal Price",
         "type": "scatter",
         "uid": "1f3a8fd6-fb13-43d2-8c64-f921edecbc04",
         "x": [
          "2014-09-01",
          "2014-10-01",
          "2014-11-01",
          "2014-12-01",
          "2015-01-01",
          "2015-02-01",
          "2015-03-01",
          "2015-04-01",
          "2015-05-01",
          "2015-06-01",
          "2015-07-01",
          "2015-08-01",
          "2015-09-01",
          "2015-10-01",
          "2015-11-01",
          "2015-12-01",
          "2016-01-01",
          "2016-02-01",
          "2016-03-01",
          "2016-04-01",
          "2016-05-01",
          "2016-06-01",
          "2016-07-01",
          "2016-08-01",
          "2016-09-01",
          "2016-10-01",
          "2016-11-01"
         ],
         "y": [
          1650,
          1560,
          1550,
          1563,
          1580,
          1196,
          1538,
          1525,
          1775,
          1588,
          1488,
          1625,
          1563,
          1558,
          1569,
          1619,
          1575,
          1575,
          1600,
          1685,
          1683,
          1617,
          1719,
          1675,
          1600,
          1594,
          1588
         ]
        },
        {
         "line": {
          "color": "rgb(22, 96, 167)",
          "dash": "dashdot",
          "width": 4
         },
         "name": "Detrended values",
         "type": "scatter",
         "uid": "2d215ca8-2e97-43fb-84c0-81838c84ac18",
         "x": [
          "2014-09-01",
          "2014-10-01",
          "2014-11-01",
          "2014-12-01",
          "2015-01-01",
          "2015-02-01",
          "2015-03-01",
          "2015-04-01",
          "2015-05-01",
          "2015-06-01",
          "2015-07-01",
          "2015-08-01",
          "2015-09-01",
          "2015-10-01",
          "2015-11-01",
          "2015-12-01",
          "2016-01-01",
          "2016-02-01",
          "2016-03-01",
          "2016-04-01",
          "2016-05-01",
          "2016-06-01",
          "2016-07-01",
          "2016-08-01",
          "2016-09-01",
          "2016-10-01",
          "2016-11-01"
         ],
         "y": [
          1536.6683479732271,
          1539.0680645611073,
          1541.538613431504,
          1544.1639093265833,
          1547.0331553551164,
          1550.247327182545,
          1553.9280047522132,
          1557.975363427975,
          1562.279623570715,
          1566.7103959391757,
          1571.2702415273675,
          1575.9750273318393,
          1580.7885764481853,
          1585.7053525799183,
          1590.7087015702703,
          1595.764653417111,
          1600.8256701798289,
          1605.8587360094248,
          1610.8146940130378,
          1615.6251005878012,
          1620.2147529470888,
          1624.551807616408,
          1628.6436619006738,
          1632.4929932250402,
          1636.1589517259742,
          1639.7272544191771,
          1643.261018975521
         ]
        }
       ],
       "layout": {
        "title": "Modal price vs detrended prices of Commodity = Onion and APMC = Lonand "
       }
      },
      "text/html": [
       "<div id=\"b713544e-2d3b-4897-b9b6-ec9acd2794dd\" style=\"height: 525px; width: 100%;\" class=\"plotly-graph-div\"></div><script type=\"text/javascript\">require([\"plotly\"], function(Plotly) { window.PLOTLYENV=window.PLOTLYENV || {};window.PLOTLYENV.BASE_URL=\"https://plot.ly\";Plotly.newPlot(\"b713544e-2d3b-4897-b9b6-ec9acd2794dd\", [{\"line\": {\"color\": \"rgb(205, 12, 24)\", \"dash\": \"dashdot\", \"width\": 4}, \"name\": \"Modal Price\", \"x\": [\"2014-09-01\", \"2014-10-01\", \"2014-11-01\", \"2014-12-01\", \"2015-01-01\", \"2015-02-01\", \"2015-03-01\", \"2015-04-01\", \"2015-05-01\", \"2015-06-01\", \"2015-07-01\", \"2015-08-01\", \"2015-09-01\", \"2015-10-01\", \"2015-11-01\", \"2015-12-01\", \"2016-01-01\", \"2016-02-01\", \"2016-03-01\", \"2016-04-01\", \"2016-05-01\", \"2016-06-01\", \"2016-07-01\", \"2016-08-01\", \"2016-09-01\", \"2016-10-01\", \"2016-11-01\"], \"y\": [1650, 1560, 1550, 1563, 1580, 1196, 1538, 1525, 1775, 1588, 1488, 1625, 1563, 1558, 1569, 1619, 1575, 1575, 1600, 1685, 1683, 1617, 1719, 1675, 1600, 1594, 1588], \"type\": \"scatter\", \"uid\": \"cd5653ce-5ccb-452e-ad4d-3b2be8e7ce5e\"}, {\"line\": {\"color\": \"rgb(22, 96, 167)\", \"dash\": \"dashdot\", \"width\": 4}, \"name\": \"Detrended values\", \"x\": [\"2014-09-01\", \"2014-10-01\", \"2014-11-01\", \"2014-12-01\", \"2015-01-01\", \"2015-02-01\", \"2015-03-01\", \"2015-04-01\", \"2015-05-01\", \"2015-06-01\", \"2015-07-01\", \"2015-08-01\", \"2015-09-01\", \"2015-10-01\", \"2015-11-01\", \"2015-12-01\", \"2016-01-01\", \"2016-02-01\", \"2016-03-01\", \"2016-04-01\", \"2016-05-01\", \"2016-06-01\", \"2016-07-01\", \"2016-08-01\", \"2016-09-01\", \"2016-10-01\", \"2016-11-01\"], \"y\": [1536.6683479732271, 1539.0680645611073, 1541.538613431504, 1544.1639093265833, 1547.0331553551164, 1550.247327182545, 1553.9280047522132, 1557.975363427975, 1562.279623570715, 1566.7103959391757, 1571.2702415273675, 1575.9750273318393, 1580.7885764481853, 1585.7053525799183, 1590.7087015702703, 1595.764653417111, 1600.8256701798289, 1605.8587360094248, 1610.8146940130378, 1615.6251005878012, 1620.2147529470888, 1624.551807616408, 1628.6436619006738, 1632.4929932250402, 1636.1589517259742, 1639.7272544191771, 1643.261018975521], \"type\": \"scatter\", \"uid\": \"2c576cde-ebb9-4c18-b2f9-72563c9004d5\"}], {\"title\": \"Modal price vs detrended prices of Commodity = Onion and APMC = Lonand \"}, {\"showLink\": true, \"linkText\": \"Export to plot.ly\", \"plotlyServerURL\": \"https://plot.ly\"})});</script><script type=\"text/javascript\">window.addEventListener(\"resize\", function(){window._Plotly.Plots.resize(document.getElementById(\"b713544e-2d3b-4897-b9b6-ec9acd2794dd\"));});</script>"
      ],
      "text/vnd.plotly.v1+html": [
       "<div id=\"b713544e-2d3b-4897-b9b6-ec9acd2794dd\" style=\"height: 525px; width: 100%;\" class=\"plotly-graph-div\"></div><script type=\"text/javascript\">require([\"plotly\"], function(Plotly) { window.PLOTLYENV=window.PLOTLYENV || {};window.PLOTLYENV.BASE_URL=\"https://plot.ly\";Plotly.newPlot(\"b713544e-2d3b-4897-b9b6-ec9acd2794dd\", [{\"line\": {\"color\": \"rgb(205, 12, 24)\", \"dash\": \"dashdot\", \"width\": 4}, \"name\": \"Modal Price\", \"x\": [\"2014-09-01\", \"2014-10-01\", \"2014-11-01\", \"2014-12-01\", \"2015-01-01\", \"2015-02-01\", \"2015-03-01\", \"2015-04-01\", \"2015-05-01\", \"2015-06-01\", \"2015-07-01\", \"2015-08-01\", \"2015-09-01\", \"2015-10-01\", \"2015-11-01\", \"2015-12-01\", \"2016-01-01\", \"2016-02-01\", \"2016-03-01\", \"2016-04-01\", \"2016-05-01\", \"2016-06-01\", \"2016-07-01\", \"2016-08-01\", \"2016-09-01\", \"2016-10-01\", \"2016-11-01\"], \"y\": [1650, 1560, 1550, 1563, 1580, 1196, 1538, 1525, 1775, 1588, 1488, 1625, 1563, 1558, 1569, 1619, 1575, 1575, 1600, 1685, 1683, 1617, 1719, 1675, 1600, 1594, 1588], \"type\": \"scatter\", \"uid\": \"cd5653ce-5ccb-452e-ad4d-3b2be8e7ce5e\"}, {\"line\": {\"color\": \"rgb(22, 96, 167)\", \"dash\": \"dashdot\", \"width\": 4}, \"name\": \"Detrended values\", \"x\": [\"2014-09-01\", \"2014-10-01\", \"2014-11-01\", \"2014-12-01\", \"2015-01-01\", \"2015-02-01\", \"2015-03-01\", \"2015-04-01\", \"2015-05-01\", \"2015-06-01\", \"2015-07-01\", \"2015-08-01\", \"2015-09-01\", \"2015-10-01\", \"2015-11-01\", \"2015-12-01\", \"2016-01-01\", \"2016-02-01\", \"2016-03-01\", \"2016-04-01\", \"2016-05-01\", \"2016-06-01\", \"2016-07-01\", \"2016-08-01\", \"2016-09-01\", \"2016-10-01\", \"2016-11-01\"], \"y\": [1536.6683479732271, 1539.0680645611073, 1541.538613431504, 1544.1639093265833, 1547.0331553551164, 1550.247327182545, 1553.9280047522132, 1557.975363427975, 1562.279623570715, 1566.7103959391757, 1571.2702415273675, 1575.9750273318393, 1580.7885764481853, 1585.7053525799183, 1590.7087015702703, 1595.764653417111, 1600.8256701798289, 1605.8587360094248, 1610.8146940130378, 1615.6251005878012, 1620.2147529470888, 1624.551807616408, 1628.6436619006738, 1632.4929932250402, 1636.1589517259742, 1639.7272544191771, 1643.261018975521], \"type\": \"scatter\", \"uid\": \"2c576cde-ebb9-4c18-b2f9-72563c9004d5\"}], {\"title\": \"Modal price vs detrended prices of Commodity = Onion and APMC = Lonand \"}, {\"showLink\": true, \"linkText\": \"Export to plot.ly\", \"plotlyServerURL\": \"https://plot.ly\"})});</script><script type=\"text/javascript\">window.addEventListener(\"resize\", function(){window._Plotly.Plots.resize(document.getElementById(\"b713544e-2d3b-4897-b9b6-ec9acd2794dd\"));});</script>"
      ]
     },
     "metadata": {},
     "output_type": "display_data"
    }
   ],
   "source": [
    "#Plotting modal price vs detrended prices of Commodity = Onion and APMC = Lonand \n",
    "trace0 = go.Scatter(\n",
    "    x = temp.index,\n",
    "    y = temp.modal_price,\n",
    "    name = 'Modal Price',\n",
    "    line = dict(\n",
    "        color = ('rgb(205, 12, 24)'),\n",
    "        width = 4,\n",
    "        dash = 'dashdot')\n",
    ")\n",
    "trace1 = go.Scatter(\n",
    "    x = temp.index,\n",
    "    y = temp.trend,\n",
    "    name = 'Detrended values',\n",
    "    line = dict(\n",
    "        color = ('rgb(22, 96, 167)'),\n",
    "        width = 4,\n",
    "        dash = 'dashdot')\n",
    ")\n",
    "\n",
    "data = [trace0, trace1]\n",
    "\n",
    "layout = dict(title = 'Modal price vs detrended prices of Commodity = Onion and APMC = Lonand ',\n",
    "              )\n",
    "\n",
    "fig = dict(data=data, layout=layout)\n",
    "iplot(fig, filename='styled-line')"
   ]
  },
  {
   "cell_type": "code",
   "execution_count": 13,
   "metadata": {
    "scrolled": true
   },
   "outputs": [
    {
     "data": {
      "text/html": [
       "<div>\n",
       "<style scoped>\n",
       "    .dataframe tbody tr th:only-of-type {\n",
       "        vertical-align: middle;\n",
       "    }\n",
       "\n",
       "    .dataframe tbody tr th {\n",
       "        vertical-align: top;\n",
       "    }\n",
       "\n",
       "    .dataframe thead th {\n",
       "        text-align: right;\n",
       "    }\n",
       "</style>\n",
       "<table border=\"1\" class=\"dataframe\">\n",
       "  <thead>\n",
       "    <tr style=\"text-align: right;\">\n",
       "      <th></th>\n",
       "      <th>APMC</th>\n",
       "      <th>Commodity</th>\n",
       "      <th>Year</th>\n",
       "      <th>arrivals_in_qtl</th>\n",
       "      <th>min_price</th>\n",
       "      <th>max_price</th>\n",
       "      <th>modal_price</th>\n",
       "      <th>date</th>\n",
       "      <th>district_name</th>\n",
       "      <th>month</th>\n",
       "      <th>joined</th>\n",
       "    </tr>\n",
       "  </thead>\n",
       "  <tbody>\n",
       "    <tr>\n",
       "      <th>0</th>\n",
       "      <td>kopargaon</td>\n",
       "      <td>soybean</td>\n",
       "      <td>2014</td>\n",
       "      <td>216</td>\n",
       "      <td>2954</td>\n",
       "      <td>3247</td>\n",
       "      <td>3138</td>\n",
       "      <td>2014-09-01</td>\n",
       "      <td>Ahmadnagar</td>\n",
       "      <td>9</td>\n",
       "      <td>soybean_kopargaon</td>\n",
       "    </tr>\n",
       "    <tr>\n",
       "      <th>1</th>\n",
       "      <td>umared</td>\n",
       "      <td>sorgum(jawar)</td>\n",
       "      <td>2014</td>\n",
       "      <td>4</td>\n",
       "      <td>1775</td>\n",
       "      <td>1775</td>\n",
       "      <td>1775</td>\n",
       "      <td>2014-09-01</td>\n",
       "      <td>Nagpur</td>\n",
       "      <td>9</td>\n",
       "      <td>sorgum(jawar)_umared</td>\n",
       "    </tr>\n",
       "    <tr>\n",
       "      <th>2</th>\n",
       "      <td>rahata</td>\n",
       "      <td>maize</td>\n",
       "      <td>2014</td>\n",
       "      <td>8</td>\n",
       "      <td>1475</td>\n",
       "      <td>1475</td>\n",
       "      <td>1475</td>\n",
       "      <td>2014-09-01</td>\n",
       "      <td>Ahmadnagar</td>\n",
       "      <td>9</td>\n",
       "      <td>maize_rahata</td>\n",
       "    </tr>\n",
       "    <tr>\n",
       "      <th>3</th>\n",
       "      <td>savner</td>\n",
       "      <td>soybean</td>\n",
       "      <td>2014</td>\n",
       "      <td>137</td>\n",
       "      <td>2687</td>\n",
       "      <td>2966</td>\n",
       "      <td>2826</td>\n",
       "      <td>2014-09-01</td>\n",
       "      <td>Nagpur</td>\n",
       "      <td>9</td>\n",
       "      <td>soybean_savner</td>\n",
       "    </tr>\n",
       "    <tr>\n",
       "      <th>4</th>\n",
       "      <td>rahata</td>\n",
       "      <td>capsicum</td>\n",
       "      <td>2014</td>\n",
       "      <td>65</td>\n",
       "      <td>1842</td>\n",
       "      <td>2667</td>\n",
       "      <td>2258</td>\n",
       "      <td>2014-09-01</td>\n",
       "      <td>Ahmadnagar</td>\n",
       "      <td>9</td>\n",
       "      <td>capsicum_rahata</td>\n",
       "    </tr>\n",
       "  </tbody>\n",
       "</table>\n",
       "</div>"
      ],
      "text/plain": [
       "        APMC      Commodity  Year  arrivals_in_qtl  min_price  max_price  \\\n",
       "0  kopargaon        soybean  2014              216       2954       3247   \n",
       "1     umared  sorgum(jawar)  2014                4       1775       1775   \n",
       "2     rahata          maize  2014                8       1475       1475   \n",
       "3     savner        soybean  2014              137       2687       2966   \n",
       "4     rahata       capsicum  2014               65       1842       2667   \n",
       "\n",
       "   modal_price       date district_name  month                joined  \n",
       "0         3138 2014-09-01    Ahmadnagar      9     soybean_kopargaon  \n",
       "1         1775 2014-09-01        Nagpur      9  sorgum(jawar)_umared  \n",
       "2         1475 2014-09-01    Ahmadnagar      9          maize_rahata  \n",
       "3         2826 2014-09-01        Nagpur      9        soybean_savner  \n",
       "4         2258 2014-09-01    Ahmadnagar      9       capsicum_rahata  "
      ]
     },
     "execution_count": 13,
     "metadata": {},
     "output_type": "execute_result"
    }
   ],
   "source": [
    "#Taking non-stationary pairs of Commodity and APMC now\n",
    "non_stationary = monthly_data[monthly_data[\"joined\"].isin(ns)].reset_index(drop=True)\n",
    "non_stationary.head()"
   ]
  },
  {
   "cell_type": "code",
   "execution_count": 16,
   "metadata": {
    "scrolled": true
   },
   "outputs": [
    {
     "data": {
      "image/png": "[encoded data removed]",
      "text/plain": [
       "<matplotlib.figure.Figure at 0x11582ce80>"
      ]
     },
     "metadata": {},
     "output_type": "display_data"
    }
   ],
   "source": [
    "dat = non_stationary[non_stationary.joined=='capsicum_rahata']\n",
    "dat = dat[['modal_price','date']]\n",
    "dat.set_index('date', inplace=True)\n",
    "\n",
    "import matplotlib.pyplot as pyplot\n",
    "result = seasonal_decompose(dat.modal_price,freq=4)\n",
    "result.plot()\n",
    "pyplot.show()"
   ]
  },
  {
   "cell_type": "code",
   "execution_count": 17,
   "metadata": {
    "scrolled": true
   },
   "outputs": [
    {
     "data": {
      "image/png": "[encoded data removed]",
      "text/plain": [
       "<matplotlib.figure.Figure at 0x11459fa58>"
      ]
     },
     "metadata": {},
     "output_type": "display_data"
    }
   ],
   "source": [
    "#Plotting acf of Commodity=Capsicum and APMC=Rahata\n",
    "from statsmodels.graphics.tsaplots import plot_acf\n",
    "\n",
    "plott = plot_acf(dat.modal_price, use_vlines=True)"
   ]
  },
  {
   "cell_type": "markdown",
   "metadata": {},
   "source": [
    "## Detect seasonality type i.e \"Additive\" or \"Multiplicative\""
   ]
  },
  {
   "cell_type": "code",
   "execution_count": 18,
   "metadata": {},
   "outputs": [],
   "source": [
    "#Checking Seasonality type\n",
    "def check_seasonality_type(df):\n",
    "    types = list(df[\"joined\"].unique())\n",
    "    multt = list()\n",
    "    addd = list()\n",
    "    for t in types:\n",
    "        temp = df.loc[df['joined']==t]\n",
    "        temp = temp[[\"modal_price\",\"joined\",\"date\"]] \n",
    "        temp.set_index('date', inplace=True)\n",
    "        add = seasonal_decompose(temp.modal_price, model='additive',freq=4)\n",
    "        mult = seasonal_decompose(temp.modal_price, model='multiplicative',freq=4)\n",
    "        add_acf=sm.tsa.stattools.acf(add.resid, missing='conservative')*2\n",
    "        add_acf=sum(add_acf)\n",
    "        mult_acf=sm.tsa.stattools.acf(mult.resid, missing='conservative')*2\n",
    "        mult_acf=sum(mult_acf)\n",
    "        if add_acf<mult_acf:\n",
    "            addd.append(t)\n",
    "        else:\n",
    "            multt.append(t)\n",
    "    return addd,multt\n",
    "\n",
    "add,mul=check_seasonality_type(non_stationary)\n",
    "non_stationary['seasonality']='additive'\n",
    "non_stationary.loc[non_stationary.joined.isin(mul),'seasonality']='multiplicative'"
   ]
  },
  {
   "cell_type": "markdown",
   "metadata": {},
   "source": [
    "## De-seasonalising prices"
   ]
  },
  {
   "cell_type": "code",
   "execution_count": 19,
   "metadata": {},
   "outputs": [],
   "source": [
    "#Function to add a column for detrended values as well as deseasonalised\n",
    "def deseasonalise_prices(df):\n",
    "    final=pd.DataFrame()\n",
    "    types = list(df[\"joined\"].unique())\n",
    "    for t in types:\n",
    "        temp = df.loc[df['joined']==t]\n",
    "        temp = temp[[\"modal_price\",\"joined\",\"date\",\"seasonality\"]] \n",
    "        temp.set_index('date', inplace=True)\n",
    "        if temp[\"seasonality\"].all()=='additive':\n",
    "            res = seasonal_decompose(temp.modal_price,model='additive',freq=4)\n",
    "            temp['detrended']=res.trend.values\n",
    "            temp['seasonal']=res.seasonal.values\n",
    "            temp['deseasonalised']=temp['modal_price']-temp['seasonal']\n",
    "        else:\n",
    "            res = seasonal_decompose(temp.modal_price,model='multiplicative',freq=4)\n",
    "            temp['detrended']=res.trend.values\n",
    "            temp['seasonal']=res.seasonal.values\n",
    "            temp['deseasonalised']=temp['modal_price']/temp['seasonal']\n",
    "        res = df.merge(temp, on=[\"joined\",\"modal_price\",\"seasonality\"])\n",
    "        final = pd.concat([final,res],sort=False)\n",
    "        final = final.dropna(how='any')\n",
    "        final.reset_index(drop=True,inplace=True)\n",
    "    return final\n",
    "\n",
    "#Deseasonalising prices now\n",
    "non_stationary = deseasonalise_prices(non_stationary)\n",
    "non_stationary = non_stationary.drop(['seasonal'],axis=1)\n"
   ]
  },
  {
   "cell_type": "code",
   "execution_count": 25,
   "metadata": {},
   "outputs": [],
   "source": [
    "#Saving the file\n",
    "monthly_data.to_csv(\"/Users/gautamchauhan21/social cops/Analysis-of-Agricultural-data/monthly_data_2.csv\",index=False)\n",
    "non_stationary.to_csv(\"/Users/gautamchauhan21/social cops/Analysis-of-Agricultural-data/non_stationary.csv\",index=False)\n",
    "stationary.to_csv(\"/Users/gautamchauhan21/social cops/Analysis-of-Agricultural-data/stationary.csv\",index=False)"
   ]
  },
  {
   "cell_type": "code",
   "execution_count": null,
   "metadata": {},
   "outputs": [],
   "source": []
  },
  {
   "cell_type": "code",
   "execution_count": null,
   "metadata": {},
   "outputs": [],
   "source": []
  }
 ],
 "metadata": {
  "kernelspec": {
   "display_name": "Python 3",
   "language": "python",
   "name": "python3"
  },
  "language_info": {
   "codemirror_mode": {
    "name": "ipython",
    "version": 3
   },
   "file_extension": ".py",
   "mimetype": "text/x-python",
   "name": "python",
   "nbconvert_exporter": "python",
   "pygments_lexer": "ipython3",
   "version": "3.6.6"
  }
 },
 "nbformat": 4,
 "nbformat_minor": 2
}
