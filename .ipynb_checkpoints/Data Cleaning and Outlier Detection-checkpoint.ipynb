{
 "cells": [
  {
   "cell_type": "markdown",
   "metadata": {},
   "source": [
    "# Outlier Detection and Removal"
   ]
  },
  {
   "cell_type": "code",
   "execution_count": 9,
   "metadata": {},
   "outputs": [
    {
     "name": "stdout",
     "output_type": "stream",
     "text": [
      "pandas 0.23.4\n",
      "numpy 1.14.1\n",
      "scipy 1.0.0\n",
      "sklearn 0.19.1\n",
      "matplotlib 2.1.2\n",
      "seaborn 0.9.0\n",
      "plotly 3.4.2\n"
     ]
    },
    {
     "data": {
      "text/html": [
       "<script type=\"text/javascript\">window.PlotlyConfig = {MathJaxConfig: 'local'};</script><script type=\"text/javascript\">if (window.MathJax) {MathJax.Hub.Config({SVG: {font: \"STIX-Web\"}});}</script><script>requirejs.config({paths: { 'plotly': ['https://cdn.plot.ly/plotly-latest.min']},});if(!window._Plotly) {require(['plotly'],function(plotly) {window._Plotly=plotly;});}</script>"
      ],
      "text/vnd.plotly.v1+html": [
       "<script type=\"text/javascript\">window.PlotlyConfig = {MathJaxConfig: 'local'};</script><script type=\"text/javascript\">if (window.MathJax) {MathJax.Hub.Config({SVG: {font: \"STIX-Web\"}});}</script><script>requirejs.config({paths: { 'plotly': ['https://cdn.plot.ly/plotly-latest.min']},});if(!window._Plotly) {require(['plotly'],function(plotly) {window._Plotly=plotly;});}</script>"
      ]
     },
     "metadata": {},
     "output_type": "display_data"
    }
   ],
   "source": [
    "#importing modules\n",
    "import numpy as np\n",
    "import pandas as pd\n",
    "import matplotlib.pyplot as plt\n",
    "import seaborn as sns\n",
    "from statsmodels.tsa.seasonal import seasonal_decompose\n",
    "import statsmodels.api as sm\n",
    "import warnings\n",
    "from scipy.stats import kurtosis\n",
    "from scipy.stats import skew\n",
    "\n",
    "warnings.filterwarnings('ignore')\n",
    "%matplotlib inline\n",
    "%reload_ext watermark\n",
    "%watermark -p pandas,numpy,scipy,sklearn,matplotlib,seaborn,plotly\n",
    "\n",
    "import plotly.plotly as py\n",
    "import plotly.graph_objs as go\n",
    "from plotly.offline import iplot\n",
    "import plotly.offline as offline\n",
    "offline.init_notebook_mode(connected=True)"
   ]
  },
  {
   "cell_type": "code",
   "execution_count": 10,
   "metadata": {},
   "outputs": [],
   "source": [
    "#Reading the data\n",
    "monthly_data = pd.read_csv(\"/Users/gautamchauhan21/Downloads/Monthly_data_cmo.csv\")\n",
    "mandi_data = pd.read_csv(\"/Users/gautamchauhan21/Downloads/CMO_MSP_Mandi.csv\")"
   ]
  },
  {
   "cell_type": "markdown",
   "metadata": {},
   "source": [
    "## Outlier Detection and Removal of Monthly Data"
   ]
  },
  {
   "cell_type": "code",
   "execution_count": 11,
   "metadata": {},
   "outputs": [
    {
     "data": {
      "text/html": [
       "<div>\n",
       "<style scoped>\n",
       "    .dataframe tbody tr th:only-of-type {\n",
       "        vertical-align: middle;\n",
       "    }\n",
       "\n",
       "    .dataframe tbody tr th {\n",
       "        vertical-align: top;\n",
       "    }\n",
       "\n",
       "    .dataframe thead th {\n",
       "        text-align: right;\n",
       "    }\n",
       "</style>\n",
       "<table border=\"1\" class=\"dataframe\">\n",
       "  <thead>\n",
       "    <tr style=\"text-align: right;\">\n",
       "      <th></th>\n",
       "      <th>Year</th>\n",
       "      <th>arrivals_in_qtl</th>\n",
       "      <th>min_price</th>\n",
       "      <th>max_price</th>\n",
       "      <th>modal_price</th>\n",
       "    </tr>\n",
       "  </thead>\n",
       "  <tbody>\n",
       "    <tr>\n",
       "      <th>count</th>\n",
       "      <td>62429.000000</td>\n",
       "      <td>6.242900e+04</td>\n",
       "      <td>6.242900e+04</td>\n",
       "      <td>6.242900e+04</td>\n",
       "      <td>62429.000000</td>\n",
       "    </tr>\n",
       "    <tr>\n",
       "      <th>mean</th>\n",
       "      <td>2015.337503</td>\n",
       "      <td>6.043088e+03</td>\n",
       "      <td>2.945228e+03</td>\n",
       "      <td>3.688814e+03</td>\n",
       "      <td>3296.003989</td>\n",
       "    </tr>\n",
       "    <tr>\n",
       "      <th>std</th>\n",
       "      <td>0.690451</td>\n",
       "      <td>3.470331e+04</td>\n",
       "      <td>1.318396e+04</td>\n",
       "      <td>7.662962e+03</td>\n",
       "      <td>3607.792534</td>\n",
       "    </tr>\n",
       "    <tr>\n",
       "      <th>min</th>\n",
       "      <td>2014.000000</td>\n",
       "      <td>1.000000e+00</td>\n",
       "      <td>0.000000e+00</td>\n",
       "      <td>0.000000e+00</td>\n",
       "      <td>0.000000</td>\n",
       "    </tr>\n",
       "    <tr>\n",
       "      <th>25%</th>\n",
       "      <td>2015.000000</td>\n",
       "      <td>3.800000e+01</td>\n",
       "      <td>1.250000e+03</td>\n",
       "      <td>1.600000e+03</td>\n",
       "      <td>1450.000000</td>\n",
       "    </tr>\n",
       "    <tr>\n",
       "      <th>50%</th>\n",
       "      <td>2015.000000</td>\n",
       "      <td>2.110000e+02</td>\n",
       "      <td>1.976000e+03</td>\n",
       "      <td>2.797000e+03</td>\n",
       "      <td>2425.000000</td>\n",
       "    </tr>\n",
       "    <tr>\n",
       "      <th>75%</th>\n",
       "      <td>2016.000000</td>\n",
       "      <td>1.364000e+03</td>\n",
       "      <td>3.900000e+03</td>\n",
       "      <td>4.647000e+03</td>\n",
       "      <td>4257.000000</td>\n",
       "    </tr>\n",
       "    <tr>\n",
       "      <th>max</th>\n",
       "      <td>2016.000000</td>\n",
       "      <td>1.450254e+06</td>\n",
       "      <td>3.153038e+06</td>\n",
       "      <td>1.600090e+06</td>\n",
       "      <td>142344.000000</td>\n",
       "    </tr>\n",
       "  </tbody>\n",
       "</table>\n",
       "</div>"
      ],
      "text/plain": [
       "               Year  arrivals_in_qtl     min_price     max_price  \\\n",
       "count  62429.000000     6.242900e+04  6.242900e+04  6.242900e+04   \n",
       "mean    2015.337503     6.043088e+03  2.945228e+03  3.688814e+03   \n",
       "std        0.690451     3.470331e+04  1.318396e+04  7.662962e+03   \n",
       "min     2014.000000     1.000000e+00  0.000000e+00  0.000000e+00   \n",
       "25%     2015.000000     3.800000e+01  1.250000e+03  1.600000e+03   \n",
       "50%     2015.000000     2.110000e+02  1.976000e+03  2.797000e+03   \n",
       "75%     2016.000000     1.364000e+03  3.900000e+03  4.647000e+03   \n",
       "max     2016.000000     1.450254e+06  3.153038e+06  1.600090e+06   \n",
       "\n",
       "         modal_price  \n",
       "count   62429.000000  \n",
       "mean     3296.003989  \n",
       "std      3607.792534  \n",
       "min         0.000000  \n",
       "25%      1450.000000  \n",
       "50%      2425.000000  \n",
       "75%      4257.000000  \n",
       "max    142344.000000  "
      ]
     },
     "execution_count": 11,
     "metadata": {},
     "output_type": "execute_result"
    }
   ],
   "source": [
    "#Understanding Data\n",
    "monthly_data.describe()"
   ]
  },
  {
   "cell_type": "code",
   "execution_count": 12,
   "metadata": {},
   "outputs": [
    {
     "name": "stdout",
     "output_type": "stream",
     "text": [
      "Number of Commodities:  352\n",
      "Number of APMC's  349\n"
     ]
    }
   ],
   "source": [
    "print(\"Number of Commodities: \",len(monthly_data[\"Commodity\"].unique()))\n",
    "print(\"Number of APMC's \",len(monthly_data[\"APMC\"].unique()))"
   ]
  },
  {
   "cell_type": "code",
   "execution_count": 13,
   "metadata": {},
   "outputs": [
    {
     "name": "stdout",
     "output_type": "stream",
     "text": [
      "No Missing values in Dataset!\n"
     ]
    }
   ],
   "source": [
    "#Detect missing values\n",
    "def check(df):\n",
    "    if(df.isnull().values.any()==True):\n",
    "        print(\"Dataframe has null values\")\n",
    "        print(\"There are \",df.isnull().sum().sum(),\"missing values!\")\n",
    "    else:\n",
    "        print(\"No Missing values in Dataset!\")\n",
    "        \n",
    "check(monthly_data)"
   ]
  },
  {
   "cell_type": "code",
   "execution_count": 14,
   "metadata": {},
   "outputs": [
    {
     "name": "stdout",
     "output_type": "stream",
     "text": [
      "(62429, 11)\n"
     ]
    },
    {
     "data": {
      "text/plain": [
       "APMC               object\n",
       "Commodity          object\n",
       "Year                int64\n",
       "Month              object\n",
       "arrivals_in_qtl     int64\n",
       "min_price           int64\n",
       "max_price           int64\n",
       "modal_price         int64\n",
       "date               object\n",
       "district_name      object\n",
       "state_name         object\n",
       "dtype: object"
      ]
     },
     "execution_count": 14,
     "metadata": {},
     "output_type": "execute_result"
    }
   ],
   "source": [
    "#Getting the shape of the dataframe and object types to see if data formatting is needed\n",
    "print(monthly_data.shape)\n",
    "monthly_data.dtypes"
   ]
  },
  {
   "cell_type": "code",
   "execution_count": 15,
   "metadata": {},
   "outputs": [
    {
     "name": "stdout",
     "output_type": "stream",
     "text": [
      "[2015 2016 2014]\n",
      "['April' 'August' 'December' 'February' 'January' 'July' 'June' 'March'\n",
      " 'May' 'November' 'October' 'September']\n"
     ]
    }
   ],
   "source": [
    "#Checking if Month and Year do not have redundancy\n",
    "print(monthly_data[\"Year\"].unique())\n",
    "print(monthly_data[\"Month\"].unique())"
   ]
  },
  {
   "cell_type": "code",
   "execution_count": 16,
   "metadata": {},
   "outputs": [
    {
     "name": "stdout",
     "output_type": "stream",
     "text": [
      "Number of commodity types: 352 \n",
      "\n",
      "Number of commodity types after conversion: 202\n"
     ]
    }
   ],
   "source": [
    "# As computer interprets MAIZE and Maize as two different commodity types, converting them to lowercase\n",
    "print(\"Number of commodity types:\",len(monthly_data[\"Commodity\"].unique()),\"\\n\")\n",
    "monthly_data[\"Commodity\"] = monthly_data[\"Commodity\"].str.lower()\n",
    "monthly_data[\"Commodity\"] = monthly_data[\"Commodity\"].str.strip()\n",
    "monthly_data[\"APMC\"] = monthly_data[\"APMC\"].str.lower()\n",
    "monthly_data[\"APMC\"] = monthly_data[\"APMC\"].str.strip()\n",
    "print(\"Number of commodity types after conversion:\",len(monthly_data[\"Commodity\"].unique()))"
   ]
  },
  {
   "cell_type": "code",
   "execution_count": 17,
   "metadata": {},
   "outputs": [
    {
     "name": "stdout",
     "output_type": "stream",
     "text": [
      "['banan', 'chavl', 'coria', 'ghevd', 'ginge', 'green', 'groun', 'harba', 'jack ', 'maize', 'male ', 'mango', 'other', 'spilt', 'split', 'sugar', 'tamar', 'wheat']\n"
     ]
    }
   ],
   "source": [
    "#Comparing the first 4 letters of all commodities to check for redundancy \n",
    "from itertools import groupby\n",
    "\n",
    "def startswith(df, n):\n",
    "    \"\"\"Returns a dictionary mapping the first n characters to the number of matches.\"\"\"\n",
    "\n",
    "    def first_n(str_):\n",
    "        return str_[:n]\n",
    "    \n",
    "\n",
    "    startswith_sorted = sorted(df, key=first_n)\n",
    "    groups = groupby(startswith_sorted, key=first_n)\n",
    "\n",
    "    return {key: len(list(grouped)) for key, grouped in groups}\n",
    "\n",
    "redundant = (startswith(monthly_data[\"Commodity\"].unique(), 5))\n",
    "\n",
    "redundant_intials = [k for k,v in redundant.items() if float(v) >= 2]\n",
    "print(redundant_intials)"
   ]
  },
  {
   "cell_type": "code",
   "execution_count": 18,
   "metadata": {},
   "outputs": [
    {
     "name": "stdout",
     "output_type": "stream",
     "text": [
      "['banana', 'banana(raw)', 'chavli (pala)', 'chavli (shenga )', 'coriander', 'coriander (dry)', 'ghevda', 'ghevda seed', 'ginger (dry)', 'ginger (fresh)', 'green chilli', 'green gram', 'green peas (dry)', 'green-peas', 'ground nut pods (dry)', 'groundnut pods (wet)', 'harbara(bhaji)', 'harbara(pendi)', 'jack fruit', 'jack fruit(raw)', 'maize', 'maize (corn.)', 'maize(corn.)', 'male goat', 'male lamb', 'mango', 'mango(raw)', 'oth.split pulses', 'other cereals', 'other oil seeds', 'other pulses', 'other spices', 'other vegetables', 'spilt gerrn gram', 'spilt pigeon pea', 'split black gram', 'split gram', 'split lentil', 'sugar', 'sugarcane', 'tamarind', 'tamarind seed', 'wheat(husked)', 'wheat(unhusked)']\n"
     ]
    }
   ],
   "source": [
    "#Gets all the names which might pose as redundant data\n",
    "redundant_names = list()\n",
    "for item1 in monthly_data[\"Commodity\"].unique():\n",
    "    for item2 in redundant_intials:\n",
    "        if item2 in item1:\n",
    "            redundant_names.append(item1)\n",
    "            \n",
    "print(sorted(redundant_names))"
   ]
  },
  {
   "cell_type": "code",
   "execution_count": 19,
   "metadata": {},
   "outputs": [
    {
     "name": "stdout",
     "output_type": "stream",
     "text": [
      "mean :  3296.003988530971\n",
      "var  :  13015958.469365308\n",
      "skew :  13.03996877715674\n",
      "kurt :  328.0075105489733\n"
     ]
    },
    {
     "data": {
      "image/png": "[encoded data removed]",
      "text/plain": [
       "<matplotlib.figure.Figure at 0x115ca6198>"
      ]
     },
     "metadata": {},
     "output_type": "display_data"
    }
   ],
   "source": [
    "#Analysing Modal price\n",
    "plt.style.use('ggplot')\n",
    "\n",
    "np.var(monthly_data[\"modal_price\"])\n",
    "\n",
    "plt.hist(monthly_data[\"modal_price\"],bins=100)\n",
    "\n",
    "print(\"mean : \", np.mean(monthly_data[\"modal_price\"]))\n",
    "print(\"var  : \", np.var(monthly_data[\"modal_price\"]))\n",
    "print(\"skew : \", skew(monthly_data[\"modal_price\"]))\n",
    "print(\"kurt : \", kurtosis(monthly_data[\"modal_price\"]))"
   ]
  },
  {
   "cell_type": "code",
   "execution_count": 22,
   "metadata": {},
   "outputs": [
    {
     "name": "stdout",
     "output_type": "stream",
     "text": [
      "AxesSubplot(0.125,0.125;0.775x0.755)\n",
      "Number of outliers: 134\n",
      "Outlier Threshold: 111\n"
     ]
    },
    {
     "data": {
      "image/png": "[encoded data removed]",
      "text/plain": [
       "<matplotlib.figure.Figure at 0x117b4f4e0>"
      ]
     },
     "metadata": {},
     "output_type": "display_data"
    }
   ],
   "source": [
    "#Analysing Boxplot for a single commodity == Wheat(Husked)\n",
    "def boxplot_and_outliers(df):\n",
    "    _, bp = temp.boxplot(column=\"modal_price\", return_type='both',whis=2)\n",
    "    \n",
    "    outliers = [flier.get_ydata() for flier in bp[\"fliers\"]]\n",
    "    print(_)\n",
    "    if(len(outliers[0])!=0):\n",
    "        print(\"Number of outliers:\",len(outliers[0]))\n",
    "        print(\"Outlier Threshold:\",outliers[0].min())\n",
    "    else:\n",
    "        print(\"No outliers found\")\n",
    "        \n",
    "#temp contains only rows where Commodity = Wheat(husked)        \n",
    "temp = monthly_data.loc[monthly_data[\"Commodity\"]==\"wheat(husked)\"]\n",
    "boxplot_and_outliers(temp)\n",
    "plt.savefig('/Users/gautamchauhan21/social cops/gautamchauhan21.github.io/one.png')"
   ]
  },
  {
   "cell_type": "code",
   "execution_count": 24,
   "metadata": {},
   "outputs": [],
   "source": [
    "#Removing rows where min_price>modal_price and max_price<modal_price\n",
    "monthly_data = monthly_data[(monthly_data['min_price']<=monthly_data['modal_price'])]\n",
    "monthly_data = monthly_data[(monthly_data['max_price']>=monthly_data['modal_price'])]"
   ]
  },
  {
   "cell_type": "code",
   "execution_count": 25,
   "metadata": {},
   "outputs": [],
   "source": [
    "def thresholds(df):\n",
    "    \"\"\"Returns the upper and lower whisker of the boxplot\"\"\"\n",
    "    \n",
    "    upper_quartile = np.percentile(df, 75)\n",
    "    lower_quartile = np.percentile(df, 25)\n",
    "    iqr = upper_quartile - lower_quartile\n",
    "    upper = df[df<upper_quartile+1.5*iqr].max()\n",
    "    lower = df[df>lower_quartile-1.5*iqr].min()\n",
    "    \n",
    "    return upper,lower\n",
    "\n",
    "def outliers_remove(df):\n",
    "    \n",
    "    \"\"\"Removes all data falling outside\"\"\"\n",
    "    \n",
    "    types=list(df[\"Commodity\"].unique())\n",
    "    final = pd.DataFrame()\n",
    "    for t in types:\n",
    "        typ=df[df[\"Commodity\"]==t]\n",
    "        upper,lower = thresholds(typ[\"modal_price\"])\n",
    "        p=typ[(typ[\"modal_price\"] < upper) & (typ[\"modal_price\"] > lower)]\n",
    "        \n",
    "        final=pd.concat([final,p])\n",
    "        final.reset_index(drop=True,inplace=True)\n",
    "    return final\n"
   ]
  },
  {
   "cell_type": "code",
   "execution_count": 26,
   "metadata": {},
   "outputs": [],
   "source": [
    "#Splitting Monthly Dataset by year and then removing outliers\n",
    "data_14 = monthly_data.loc[monthly_data[\"Year\"]==2014]\n",
    "data_15 = monthly_data.loc[monthly_data[\"Year\"]==2015]\n",
    "data_16 = monthly_data.loc[monthly_data[\"Year\"]==2016]\n",
    "\n",
    "data_14 = outliers_remove(data_14)\n",
    "data_15 = outliers_remove(data_15)\n",
    "data_16 = outliers_remove(data_16)\n",
    "\n",
    "data_new = pd.DataFrame()\n",
    "data_new = pd.concat([data_new,data_14])\n",
    "data_new = pd.concat([data_new,data_15])\n",
    "data_new = pd.concat([data_new,data_16])\n",
    "monthly_data = monthly_data.merge(data_new)"
   ]
  },
  {
   "cell_type": "code",
   "execution_count": 27,
   "metadata": {},
   "outputs": [
    {
     "name": "stdout",
     "output_type": "stream",
     "text": [
      "AxesSubplot(0.125,0.125;0.775x0.755)\n",
      "No outliers found\n"
     ]
    },
    {
     "data": {
      "image/png": "[encoded data removed]",
      "text/plain": [
       "<matplotlib.figure.Figure at 0x116d0ca58>"
      ]
     },
     "metadata": {},
     "output_type": "display_data"
    }
   ],
   "source": [
    "#Checking if outliers have been removed\n",
    "temp = monthly_data.loc[monthly_data[\"Commodity\"]==\"bajri\"]\n",
    "boxplot_and_outliers(temp)\n",
    "plt.savefig('/Users/gautamchauhan21/social cops/gautamchauhan21.github.io/two.png')"
   ]
  },
  {
   "cell_type": "markdown",
   "metadata": {},
   "source": [
    "## Outlier Detection and Removal of Mandi Data"
   ]
  },
  {
   "cell_type": "code",
   "execution_count": 18,
   "metadata": {},
   "outputs": [
    {
     "data": {
      "text/html": [
       "<div>\n",
       "<style scoped>\n",
       "    .dataframe tbody tr th:only-of-type {\n",
       "        vertical-align: middle;\n",
       "    }\n",
       "\n",
       "    .dataframe tbody tr th {\n",
       "        vertical-align: top;\n",
       "    }\n",
       "\n",
       "    .dataframe thead th {\n",
       "        text-align: right;\n",
       "    }\n",
       "</style>\n",
       "<table border=\"1\" class=\"dataframe\">\n",
       "  <thead>\n",
       "    <tr style=\"text-align: right;\">\n",
       "      <th></th>\n",
       "      <th>year</th>\n",
       "      <th>msprice</th>\n",
       "      <th>msp_filter</th>\n",
       "    </tr>\n",
       "  </thead>\n",
       "  <tbody>\n",
       "    <tr>\n",
       "      <th>count</th>\n",
       "      <td>155.000000</td>\n",
       "      <td>145.000000</td>\n",
       "      <td>155.0</td>\n",
       "    </tr>\n",
       "    <tr>\n",
       "      <th>mean</th>\n",
       "      <td>2014.000000</td>\n",
       "      <td>2822.448276</td>\n",
       "      <td>1.0</td>\n",
       "    </tr>\n",
       "    <tr>\n",
       "      <th>std</th>\n",
       "      <td>1.418798</td>\n",
       "      <td>1441.725928</td>\n",
       "      <td>0.0</td>\n",
       "    </tr>\n",
       "    <tr>\n",
       "      <th>min</th>\n",
       "      <td>2012.000000</td>\n",
       "      <td>170.000000</td>\n",
       "      <td>1.0</td>\n",
       "    </tr>\n",
       "    <tr>\n",
       "      <th>25%</th>\n",
       "      <td>2013.000000</td>\n",
       "      <td>1470.000000</td>\n",
       "      <td>1.0</td>\n",
       "    </tr>\n",
       "    <tr>\n",
       "      <th>50%</th>\n",
       "      <td>2014.000000</td>\n",
       "      <td>2970.000000</td>\n",
       "      <td>1.0</td>\n",
       "    </tr>\n",
       "    <tr>\n",
       "      <th>75%</th>\n",
       "      <td>2015.000000</td>\n",
       "      <td>4000.000000</td>\n",
       "      <td>1.0</td>\n",
       "    </tr>\n",
       "    <tr>\n",
       "      <th>max</th>\n",
       "      <td>2016.000000</td>\n",
       "      <td>6240.000000</td>\n",
       "      <td>1.0</td>\n",
       "    </tr>\n",
       "  </tbody>\n",
       "</table>\n",
       "</div>"
      ],
      "text/plain": [
       "              year      msprice  msp_filter\n",
       "count   155.000000   145.000000       155.0\n",
       "mean   2014.000000  2822.448276         1.0\n",
       "std       1.418798  1441.725928         0.0\n",
       "min    2012.000000   170.000000         1.0\n",
       "25%    2013.000000  1470.000000         1.0\n",
       "50%    2014.000000  2970.000000         1.0\n",
       "75%    2015.000000  4000.000000         1.0\n",
       "max    2016.000000  6240.000000         1.0"
      ]
     },
     "execution_count": 18,
     "metadata": {},
     "output_type": "execute_result"
    }
   ],
   "source": [
    "#Understanding Data\n",
    "mandi_data.describe()"
   ]
  },
  {
   "cell_type": "code",
   "execution_count": 19,
   "metadata": {},
   "outputs": [
    {
     "name": "stdout",
     "output_type": "stream",
     "text": [
      "[2012 2013 2014 2015 2016]\n"
     ]
    }
   ],
   "source": [
    "#Checking if Year does not have redundancy\n",
    "print(mandi_data[\"year\"].unique())"
   ]
  },
  {
   "cell_type": "code",
   "execution_count": 20,
   "metadata": {},
   "outputs": [
    {
     "name": "stdout",
     "output_type": "stream",
     "text": [
      "Dataframe has null values\n",
      "There are  10 missing values!\n"
     ]
    }
   ],
   "source": [
    "#Checking missing data in Mandi Dataset\n",
    "check(mandi_data)"
   ]
  },
  {
   "cell_type": "code",
   "execution_count": 21,
   "metadata": {},
   "outputs": [],
   "source": [
    "#Removing Rows with missing values\n",
    "mandi_data.dropna(inplace=True)"
   ]
  },
  {
   "cell_type": "code",
   "execution_count": 22,
   "metadata": {},
   "outputs": [
    {
     "name": "stdout",
     "output_type": "stream",
     "text": [
      "Number of commodity types: 32 \n",
      "\n",
      "Number of commodity types after conversion: 32\n"
     ]
    }
   ],
   "source": [
    "#As computer interprets MAIZE and Maize as two different commodity types, converting them to lowercase\n",
    "print(\"Number of commodity types:\",len(mandi_data[\"commodity\"].unique()),\"\\n\")\n",
    "mandi_data[\"commodity\"] = mandi_data[\"commodity\"].str.lower()\n",
    "mandi_data[\"commodity\"] = mandi_data[\"commodity\"].str.strip()\n",
    "print(\"Number of commodity types after conversion:\",len(mandi_data[\"commodity\"].unique()))"
   ]
  },
  {
   "cell_type": "code",
   "execution_count": 23,
   "metadata": {},
   "outputs": [
    {
     "name": "stdout",
     "output_type": "stream",
     "text": [
      "['copra (ball)_yellow', 'copra (milling)_yellow', 'cotton', 'cotton_long staple', 'soyabean', 'soyabean_black', 'sugar-cane', 'sugarcane', 'wheat(husked)', 'wheat(unhusked)']\n"
     ]
    }
   ],
   "source": [
    "#Performing same operations to check for duplicates\n",
    "redundant = (startswith(mandi_data[\"commodity\"].unique(), 5))\n",
    "\n",
    "redundant_intials = [k for k,v in redundant.items() if float(v) >= 2]\n",
    "redundant_names = list()\n",
    "for item1 in mandi_data[\"commodity\"].unique():\n",
    "    for item2 in redundant_intials:\n",
    "        if item2 in item1:\n",
    "            redundant_names.append(item1)\n",
    "            \n",
    "print(sorted(redundant_names))"
   ]
  },
  {
   "cell_type": "code",
   "execution_count": 24,
   "metadata": {},
   "outputs": [
    {
     "data": {
      "text/plain": [
       "cotton_long staple        5\n",
       "cotton                    5\n",
       "sunflower                 5\n",
       "paddy-unhusked            5\n",
       "niger-seed                5\n",
       "sesamum                   5\n",
       "spilt gerrn gram          5\n",
       "ragi_maldandi             5\n",
       "pigeon pea (tur)          5\n",
       "maize                     5\n",
       "split black gram          5\n",
       "jute_yellow               5\n",
       "coconut                   5\n",
       "bajri                     5\n",
       "soyabean                  5\n",
       "rice(paddy-hus)           5\n",
       "gr.nut kernels            5\n",
       "copra (milling)_yellow    5\n",
       "jowar_hybrid              5\n",
       "sorgum(jawar)             5\n",
       "copra (ball)_yellow       5\n",
       "wheat(unhusked)           4\n",
       "toria_yellow              4\n",
       "barli                     4\n",
       "mustard                   4\n",
       "gram_yellow               4\n",
       "sugar-cane                4\n",
       "safflower                 4\n",
       "masur_yellow              4\n",
       "wheat(husked)             4\n",
       "soyabean_black            3\n",
       "sugarcane                 1\n",
       "Name: commodity, dtype: int64"
      ]
     },
     "execution_count": 24,
     "metadata": {},
     "output_type": "execute_result"
    }
   ],
   "source": [
    "#Getting counts of all values\n",
    "mandi_data['commodity'].value_counts()"
   ]
  },
  {
   "cell_type": "markdown",
   "metadata": {},
   "source": [
    "### No Outliers in msprice when grouped by Crop type"
   ]
  },
  {
   "cell_type": "code",
   "execution_count": 25,
   "metadata": {},
   "outputs": [
    {
     "data": {
      "image/png": "[encoded data removed]",
      "text/plain": [
       "<matplotlib.figure.Figure at 0x10aa28550>"
      ]
     },
     "metadata": {},
     "output_type": "display_data"
    }
   ],
   "source": [
    "axes = mandi_data.boxplot(by='Type', \n",
    "                       column=['msprice'],grid=False)\n",
    "fig = axes.get_figure()\n",
    "\n",
    "fig.suptitle('')\n",
    "fig.set_figwidth(10)"
   ]
  },
  {
   "cell_type": "code",
   "execution_count": 26,
   "metadata": {},
   "outputs": [],
   "source": [
    "#Saving the file\n",
    "monthly_data.to_csv(\"/Users/gautamchauhan21/social cops/Analysis-of-Agricultural-data/monthly_data_1.csv\",index=False)\n",
    "mandi_data.to_csv(\"/Users/gautamchauhan21/social cops/Analysis-of-Agricultural-data/mandi_data_1.csv\",index=False)"
   ]
  }
 ],
 "metadata": {
  "kernelspec": {
   "display_name": "Python 3",
   "language": "python",
   "name": "python3"
  },
  "language_info": {
   "codemirror_mode": {
    "name": "ipython",
    "version": 3
   },
   "file_extension": ".py",
   "mimetype": "text/x-python",
   "name": "python",
   "nbconvert_exporter": "python",
   "pygments_lexer": "ipython3",
   "version": "3.6.6"
  }
 },
 "nbformat": 4,
 "nbformat_minor": 2
}
