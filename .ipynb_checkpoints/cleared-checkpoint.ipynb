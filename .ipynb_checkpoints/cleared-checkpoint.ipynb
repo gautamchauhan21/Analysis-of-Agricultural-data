{
 "cells": [
  {
   "cell_type": "code",
   "execution_count": 1,
   "metadata": {},
   "outputs": [],
   "source": [
    "#importing modules\n",
    "import numpy as np\n",
    "import pandas as pd\n",
    "import matplotlib.pyplot as plt\n",
    "import seaborn as sns\n",
    "import matplotlib.patches as mpatches\n",
    "import statsmodels.api as sm\n",
    "from statsmodels.tsa.seasonal import seasonal_decompose\n",
    "%matplotlib inline\n",
    "import scipy"
   ]
  },
  {
   "cell_type": "code",
   "execution_count": 2,
   "metadata": {},
   "outputs": [],
   "source": [
    "#Reading the data\n",
    "monthly_data = pd.read_csv(\"/Users/gautamchauhan21/Downloads/Monthly_data_cmo.csv\")\n",
    "mandi_data = pd.read_csv(\"/Users/gautamchauhan21/Downloads/CMO_MSP_Mandi.csv\")"
   ]
  },
  {
   "cell_type": "code",
   "execution_count": 3,
   "metadata": {},
   "outputs": [
    {
     "data": {
      "text/html": [
       "<div>\n",
       "<style scoped>\n",
       "    .dataframe tbody tr th:only-of-type {\n",
       "        vertical-align: middle;\n",
       "    }\n",
       "\n",
       "    .dataframe tbody tr th {\n",
       "        vertical-align: top;\n",
       "    }\n",
       "\n",
       "    .dataframe thead th {\n",
       "        text-align: right;\n",
       "    }\n",
       "</style>\n",
       "<table border=\"1\" class=\"dataframe\">\n",
       "  <thead>\n",
       "    <tr style=\"text-align: right;\">\n",
       "      <th></th>\n",
       "      <th>Year</th>\n",
       "      <th>arrivals_in_qtl</th>\n",
       "      <th>min_price</th>\n",
       "      <th>max_price</th>\n",
       "      <th>modal_price</th>\n",
       "    </tr>\n",
       "  </thead>\n",
       "  <tbody>\n",
       "    <tr>\n",
       "      <th>count</th>\n",
       "      <td>62429.000000</td>\n",
       "      <td>6.242900e+04</td>\n",
       "      <td>6.242900e+04</td>\n",
       "      <td>6.242900e+04</td>\n",
       "      <td>62429.000000</td>\n",
       "    </tr>\n",
       "    <tr>\n",
       "      <th>mean</th>\n",
       "      <td>2015.337503</td>\n",
       "      <td>6.043088e+03</td>\n",
       "      <td>2.945228e+03</td>\n",
       "      <td>3.688814e+03</td>\n",
       "      <td>3296.003989</td>\n",
       "    </tr>\n",
       "    <tr>\n",
       "      <th>std</th>\n",
       "      <td>0.690451</td>\n",
       "      <td>3.470331e+04</td>\n",
       "      <td>1.318396e+04</td>\n",
       "      <td>7.662962e+03</td>\n",
       "      <td>3607.792534</td>\n",
       "    </tr>\n",
       "    <tr>\n",
       "      <th>min</th>\n",
       "      <td>2014.000000</td>\n",
       "      <td>1.000000e+00</td>\n",
       "      <td>0.000000e+00</td>\n",
       "      <td>0.000000e+00</td>\n",
       "      <td>0.000000</td>\n",
       "    </tr>\n",
       "    <tr>\n",
       "      <th>25%</th>\n",
       "      <td>2015.000000</td>\n",
       "      <td>3.800000e+01</td>\n",
       "      <td>1.250000e+03</td>\n",
       "      <td>1.600000e+03</td>\n",
       "      <td>1450.000000</td>\n",
       "    </tr>\n",
       "    <tr>\n",
       "      <th>50%</th>\n",
       "      <td>2015.000000</td>\n",
       "      <td>2.110000e+02</td>\n",
       "      <td>1.976000e+03</td>\n",
       "      <td>2.797000e+03</td>\n",
       "      <td>2425.000000</td>\n",
       "    </tr>\n",
       "    <tr>\n",
       "      <th>75%</th>\n",
       "      <td>2016.000000</td>\n",
       "      <td>1.364000e+03</td>\n",
       "      <td>3.900000e+03</td>\n",
       "      <td>4.647000e+03</td>\n",
       "      <td>4257.000000</td>\n",
       "    </tr>\n",
       "    <tr>\n",
       "      <th>max</th>\n",
       "      <td>2016.000000</td>\n",
       "      <td>1.450254e+06</td>\n",
       "      <td>3.153038e+06</td>\n",
       "      <td>1.600090e+06</td>\n",
       "      <td>142344.000000</td>\n",
       "    </tr>\n",
       "  </tbody>\n",
       "</table>\n",
       "</div>"
      ],
      "text/plain": [
       "               Year  arrivals_in_qtl     min_price     max_price  \\\n",
       "count  62429.000000     6.242900e+04  6.242900e+04  6.242900e+04   \n",
       "mean    2015.337503     6.043088e+03  2.945228e+03  3.688814e+03   \n",
       "std        0.690451     3.470331e+04  1.318396e+04  7.662962e+03   \n",
       "min     2014.000000     1.000000e+00  0.000000e+00  0.000000e+00   \n",
       "25%     2015.000000     3.800000e+01  1.250000e+03  1.600000e+03   \n",
       "50%     2015.000000     2.110000e+02  1.976000e+03  2.797000e+03   \n",
       "75%     2016.000000     1.364000e+03  3.900000e+03  4.647000e+03   \n",
       "max     2016.000000     1.450254e+06  3.153038e+06  1.600090e+06   \n",
       "\n",
       "         modal_price  \n",
       "count   62429.000000  \n",
       "mean     3296.003989  \n",
       "std      3607.792534  \n",
       "min         0.000000  \n",
       "25%      1450.000000  \n",
       "50%      2425.000000  \n",
       "75%      4257.000000  \n",
       "max    142344.000000  "
      ]
     },
     "execution_count": 3,
     "metadata": {},
     "output_type": "execute_result"
    }
   ],
   "source": [
    "#Understanding Data\n",
    "monthly_data.describe()"
   ]
  },
  {
   "cell_type": "code",
   "execution_count": 4,
   "metadata": {},
   "outputs": [
    {
     "name": "stdout",
     "output_type": "stream",
     "text": [
      "Number of Commodities:  352\n",
      "Number of APMC's  349\n"
     ]
    }
   ],
   "source": [
    "print(\"Number of Commodities: \",len(monthly_data[\"Commodity\"].unique()))\n",
    "print(\"Number of APMC's \",len(monthly_data[\"APMC\"].unique()))"
   ]
  },
  {
   "cell_type": "code",
   "execution_count": 5,
   "metadata": {},
   "outputs": [
    {
     "name": "stdout",
     "output_type": "stream",
     "text": [
      "No Missing values in Dataset!\n"
     ]
    }
   ],
   "source": [
    "#Detect missing values\n",
    "def check(df):\n",
    "    if(df.isnull().values.any()==True):\n",
    "        print(\"Dataframe has null values\")\n",
    "        print(\"There are \",df.isnull().sum().sum(),\"missing values!\")\n",
    "    else:\n",
    "        print(\"No Missing values in Dataset!\")\n",
    "        \n",
    "check(monthly_data)"
   ]
  },
  {
   "cell_type": "code",
   "execution_count": 6,
   "metadata": {},
   "outputs": [
    {
     "name": "stdout",
     "output_type": "stream",
     "text": [
      "(62429, 11)\n"
     ]
    },
    {
     "data": {
      "text/plain": [
       "APMC               object\n",
       "Commodity          object\n",
       "Year                int64\n",
       "Month              object\n",
       "arrivals_in_qtl     int64\n",
       "min_price           int64\n",
       "max_price           int64\n",
       "modal_price         int64\n",
       "date               object\n",
       "district_name      object\n",
       "state_name         object\n",
       "dtype: object"
      ]
     },
     "execution_count": 6,
     "metadata": {},
     "output_type": "execute_result"
    }
   ],
   "source": [
    "#Getting the shape of the dataframe and object types to see if data formatting is needed\n",
    "print(monthly_data.shape)\n",
    "monthly_data.dtypes"
   ]
  },
  {
   "cell_type": "code",
   "execution_count": 7,
   "metadata": {},
   "outputs": [
    {
     "name": "stdout",
     "output_type": "stream",
     "text": [
      "[2015 2016 2014]\n",
      "['April' 'August' 'December' 'February' 'January' 'July' 'June' 'March'\n",
      " 'May' 'November' 'October' 'September']\n"
     ]
    }
   ],
   "source": [
    "#Checking if Month and Year do not have redundancy\n",
    "print(monthly_data[\"Year\"].unique())\n",
    "print(monthly_data[\"Month\"].unique())"
   ]
  },
  {
   "cell_type": "code",
   "execution_count": 8,
   "metadata": {},
   "outputs": [
    {
     "name": "stdout",
     "output_type": "stream",
     "text": [
      "Number of commodity types: 352 \n",
      "\n",
      "Number of commodity types after conversion: 202\n"
     ]
    }
   ],
   "source": [
    "# As computer interprets MAIZE and Maize as two different commodity types, converting them to lowercase\n",
    "print(\"Number of commodity types:\",len(monthly_data[\"Commodity\"].unique()),\"\\n\")\n",
    "monthly_data[\"Commodity\"] = monthly_data[\"Commodity\"].str.lower()\n",
    "monthly_data[\"Commodity\"] = monthly_data[\"Commodity\"].str.strip()\n",
    "monthly_data[\"APMC\"] = monthly_data[\"APMC\"].str.lower()\n",
    "monthly_data[\"APMC\"] = monthly_data[\"APMC\"].str.strip()\n",
    "print(\"Number of commodity types after conversion:\",len(monthly_data[\"Commodity\"].unique()))"
   ]
  },
  {
   "cell_type": "code",
   "execution_count": 9,
   "metadata": {},
   "outputs": [
    {
     "name": "stdout",
     "output_type": "stream",
     "text": [
      "['banan', 'chavl', 'coria', 'ghevd', 'ginge', 'green', 'groun', 'harba', 'jack ', 'maize', 'male ', 'mango', 'other', 'spilt', 'split', 'sugar', 'tamar', 'wheat']\n"
     ]
    }
   ],
   "source": [
    "#Comparing the first 4 letters of all commodities to check for redundancy \n",
    "from itertools import groupby\n",
    "\n",
    "def startswith(df, n):\n",
    "    \"\"\"Returns a dictionary mapping the first n characters to the number of matches.\"\"\"\n",
    "\n",
    "    def first_n(str_):\n",
    "        return str_[:n]\n",
    "    \n",
    "\n",
    "    startswith_sorted = sorted(df, key=first_n)\n",
    "    groups = groupby(startswith_sorted, key=first_n)\n",
    "\n",
    "    return {key: len(list(grouped)) for key, grouped in groups}\n",
    "\n",
    "redundant = (startswith(monthly_data[\"Commodity\"].unique(), 5))\n",
    "\n",
    "redundant_intials = [k for k,v in redundant.items() if float(v) >= 2]\n",
    "print(redundant_intials)"
   ]
  },
  {
   "cell_type": "code",
   "execution_count": 10,
   "metadata": {},
   "outputs": [
    {
     "name": "stdout",
     "output_type": "stream",
     "text": [
      "['banana', 'banana(raw)', 'chavli (pala)', 'chavli (shenga )', 'coriander', 'coriander (dry)', 'ghevda', 'ghevda seed', 'ginger (dry)', 'ginger (fresh)', 'green chilli', 'green gram', 'green peas (dry)', 'green-peas', 'ground nut pods (dry)', 'groundnut pods (wet)', 'harbara(bhaji)', 'harbara(pendi)', 'jack fruit', 'jack fruit(raw)', 'maize', 'maize (corn.)', 'maize(corn.)', 'male goat', 'male lamb', 'mango', 'mango(raw)', 'oth.split pulses', 'other cereals', 'other oil seeds', 'other pulses', 'other spices', 'other vegetables', 'spilt gerrn gram', 'spilt pigeon pea', 'split black gram', 'split gram', 'split lentil', 'sugar', 'sugarcane', 'tamarind', 'tamarind seed', 'wheat(husked)', 'wheat(unhusked)']\n"
     ]
    }
   ],
   "source": [
    "#Gets all the names which might pose as redundant data\n",
    "redundant_names = list()\n",
    "for item1 in monthly_data[\"Commodity\"].unique():\n",
    "    for item2 in redundant_intials:\n",
    "        if item2 in item1:\n",
    "            redundant_names.append(item1)\n",
    "            \n",
    "print(sorted(redundant_names))"
   ]
  },
  {
   "cell_type": "code",
   "execution_count": 11,
   "metadata": {},
   "outputs": [
    {
     "name": "stdout",
     "output_type": "stream",
     "text": [
      "AxesSubplot(0.125,0.125;0.775x0.755)\n",
      "Number of outliers: 134\n",
      "Outlier Threshold: 111\n"
     ]
    },
    {
     "data": {
      "image/png": "[encoded data removed]",
      "text/plain": [
       "<matplotlib.figure.Figure at 0x10b2aec18>"
      ]
     },
     "metadata": {},
     "output_type": "display_data"
    }
   ],
   "source": [
    "#Analysing Boxplot for a single commodity == Wheat(Husked)\n",
    "def boxplot_and_outliers(df):\n",
    "    _, bp = temp.boxplot(column=\"modal_price\", return_type='both',whis=2)\n",
    "    \n",
    "    outliers = [flier.get_ydata() for flier in bp[\"fliers\"]]\n",
    "    print(_)\n",
    "    if(len(outliers[0])!=0):\n",
    "        print(\"Number of outliers:\",len(outliers[0]))\n",
    "        print(\"Outlier Threshold:\",outliers[0].min())\n",
    "    else:\n",
    "        print(\"No outliers found\")\n",
    "        \n",
    "#temp contains only rows where Commodity = Wheat(husked)        \n",
    "temp = monthly_data.loc[monthly_data[\"Commodity\"]==\"wheat(husked)\"]\n",
    "boxplot_and_outliers(temp)"
   ]
  },
  {
   "cell_type": "code",
   "execution_count": 12,
   "metadata": {},
   "outputs": [],
   "source": [
    "#Removing rows where min_price>modal_price and max_price<modal_price\n",
    "monthly_data = monthly_data[(monthly_data['min_price']<=monthly_data['modal_price'])]\n",
    "monthly_data = monthly_data[(monthly_data['max_price']>=monthly_data['modal_price'])]"
   ]
  },
  {
   "cell_type": "code",
   "execution_count": 13,
   "metadata": {},
   "outputs": [],
   "source": [
    "def thresholds(df):\n",
    "    \"\"\"Returns the upper and lower whisker of the boxplot\"\"\"\n",
    "    \n",
    "    upper_quartile = np.percentile(df, 75)\n",
    "    lower_quartile = np.percentile(df, 25)\n",
    "    iqr = upper_quartile - lower_quartile\n",
    "    upper = df[df<upper_quartile+1.5*iqr].max()\n",
    "    lower = df[df>lower_quartile-1.5*iqr].min()\n",
    "    \n",
    "    return upper,lower\n",
    "\n",
    "def outliers_remove(df):\n",
    "    \n",
    "    \"\"\"Removes all data falling outside\"\"\"\n",
    "    \n",
    "    types=list(df[\"Commodity\"].unique())\n",
    "    final = pd.DataFrame()\n",
    "    for t in types:\n",
    "        typ=df[df[\"Commodity\"]==t]\n",
    "        upper,lower = thresholds(typ[\"modal_price\"])\n",
    "        p=typ[(typ[\"modal_price\"] < upper) & (typ[\"modal_price\"] > lower)]\n",
    "        \n",
    "        final=pd.concat([final,p])\n",
    "        final.reset_index(drop=True,inplace=True)\n",
    "    return final\n"
   ]
  },
  {
   "cell_type": "code",
   "execution_count": 14,
   "metadata": {},
   "outputs": [],
   "source": [
    "#Splitting Monthly Dataset by year and then removing outliers\n",
    "data_14 = monthly_data.loc[monthly_data[\"Year\"]==2014]\n",
    "data_15 = monthly_data.loc[monthly_data[\"Year\"]==2015]\n",
    "data_16 = monthly_data.loc[monthly_data[\"Year\"]==2016]\n",
    "\n",
    "data_14 = outliers_remove(data_14)\n",
    "data_15 = outliers_remove(data_15)\n",
    "data_16 = outliers_remove(data_16)\n",
    "\n",
    "data_new = pd.DataFrame()\n",
    "data_new = pd.concat([data_new,data_14])\n",
    "data_new = pd.concat([data_new,data_15])\n",
    "data_new = pd.concat([data_new,data_16])\n",
    "monthly_data = monthly_data.merge(data_new)"
   ]
  },
  {
   "cell_type": "code",
   "execution_count": 15,
   "metadata": {},
   "outputs": [
    {
     "name": "stdout",
     "output_type": "stream",
     "text": [
      "AxesSubplot(0.125,0.125;0.775x0.755)\n",
      "No outliers found\n"
     ]
    },
    {
     "data": {
      "image/png": "[encoded data removed]",
      "text/plain": [
       "<matplotlib.figure.Figure at 0x10c48ca90>"
      ]
     },
     "metadata": {},
     "output_type": "display_data"
    }
   ],
   "source": [
    "#Checking if outliers have been removed\n",
    "temp = monthly_data.loc[monthly_data[\"Commodity\"]==\"bajri\"]\n",
    "boxplot_and_outliers(temp)"
   ]
  },
  {
   "cell_type": "markdown",
   "metadata": {},
   "source": [
    "## Outlier Detection and Removal of Mandi Data"
   ]
  },
  {
   "cell_type": "code",
   "execution_count": 16,
   "metadata": {},
   "outputs": [
    {
     "data": {
      "text/html": [
       "<div>\n",
       "<style scoped>\n",
       "    .dataframe tbody tr th:only-of-type {\n",
       "        vertical-align: middle;\n",
       "    }\n",
       "\n",
       "    .dataframe tbody tr th {\n",
       "        vertical-align: top;\n",
       "    }\n",
       "\n",
       "    .dataframe thead th {\n",
       "        text-align: right;\n",
       "    }\n",
       "</style>\n",
       "<table border=\"1\" class=\"dataframe\">\n",
       "  <thead>\n",
       "    <tr style=\"text-align: right;\">\n",
       "      <th></th>\n",
       "      <th>year</th>\n",
       "      <th>msprice</th>\n",
       "      <th>msp_filter</th>\n",
       "    </tr>\n",
       "  </thead>\n",
       "  <tbody>\n",
       "    <tr>\n",
       "      <th>count</th>\n",
       "      <td>155.000000</td>\n",
       "      <td>145.000000</td>\n",
       "      <td>155.0</td>\n",
       "    </tr>\n",
       "    <tr>\n",
       "      <th>mean</th>\n",
       "      <td>2014.000000</td>\n",
       "      <td>2822.448276</td>\n",
       "      <td>1.0</td>\n",
       "    </tr>\n",
       "    <tr>\n",
       "      <th>std</th>\n",
       "      <td>1.418798</td>\n",
       "      <td>1441.725928</td>\n",
       "      <td>0.0</td>\n",
       "    </tr>\n",
       "    <tr>\n",
       "      <th>min</th>\n",
       "      <td>2012.000000</td>\n",
       "      <td>170.000000</td>\n",
       "      <td>1.0</td>\n",
       "    </tr>\n",
       "    <tr>\n",
       "      <th>25%</th>\n",
       "      <td>2013.000000</td>\n",
       "      <td>1470.000000</td>\n",
       "      <td>1.0</td>\n",
       "    </tr>\n",
       "    <tr>\n",
       "      <th>50%</th>\n",
       "      <td>2014.000000</td>\n",
       "      <td>2970.000000</td>\n",
       "      <td>1.0</td>\n",
       "    </tr>\n",
       "    <tr>\n",
       "      <th>75%</th>\n",
       "      <td>2015.000000</td>\n",
       "      <td>4000.000000</td>\n",
       "      <td>1.0</td>\n",
       "    </tr>\n",
       "    <tr>\n",
       "      <th>max</th>\n",
       "      <td>2016.000000</td>\n",
       "      <td>6240.000000</td>\n",
       "      <td>1.0</td>\n",
       "    </tr>\n",
       "  </tbody>\n",
       "</table>\n",
       "</div>"
      ],
      "text/plain": [
       "              year      msprice  msp_filter\n",
       "count   155.000000   145.000000       155.0\n",
       "mean   2014.000000  2822.448276         1.0\n",
       "std       1.418798  1441.725928         0.0\n",
       "min    2012.000000   170.000000         1.0\n",
       "25%    2013.000000  1470.000000         1.0\n",
       "50%    2014.000000  2970.000000         1.0\n",
       "75%    2015.000000  4000.000000         1.0\n",
       "max    2016.000000  6240.000000         1.0"
      ]
     },
     "execution_count": 16,
     "metadata": {},
     "output_type": "execute_result"
    }
   ],
   "source": [
    "#Understanding Data\n",
    "mandi_data.describe()"
   ]
  },
  {
   "cell_type": "code",
   "execution_count": 17,
   "metadata": {},
   "outputs": [
    {
     "name": "stdout",
     "output_type": "stream",
     "text": [
      "[2012 2013 2014 2015 2016]\n"
     ]
    }
   ],
   "source": [
    "#Checking if Year does not have redundancy\n",
    "print(mandi_data[\"year\"].unique())"
   ]
  },
  {
   "cell_type": "code",
   "execution_count": 18,
   "metadata": {},
   "outputs": [
    {
     "name": "stdout",
     "output_type": "stream",
     "text": [
      "Dataframe has null values\n",
      "There are  10 missing values!\n"
     ]
    }
   ],
   "source": [
    "#Checking missing data in Mandi Dataset\n",
    "check(mandi_data)"
   ]
  },
  {
   "cell_type": "code",
   "execution_count": 19,
   "metadata": {},
   "outputs": [],
   "source": [
    "#Removing Rows with missing values\n",
    "mandi_data.dropna(inplace=True)"
   ]
  },
  {
   "cell_type": "code",
   "execution_count": 20,
   "metadata": {},
   "outputs": [
    {
     "name": "stdout",
     "output_type": "stream",
     "text": [
      "Number of commodity types: 32 \n",
      "\n",
      "Number of commodity types after conversion: 32\n"
     ]
    }
   ],
   "source": [
    "#As computer interprets MAIZE and Maize as two different commodity types, converting them to lowercase\n",
    "print(\"Number of commodity types:\",len(mandi_data[\"commodity\"].unique()),\"\\n\")\n",
    "mandi_data[\"commodity\"] = mandi_data[\"commodity\"].str.lower()\n",
    "mandi_data[\"commodity\"] = mandi_data[\"commodity\"].str.strip()\n",
    "print(\"Number of commodity types after conversion:\",len(mandi_data[\"commodity\"].unique()))"
   ]
  },
  {
   "cell_type": "code",
   "execution_count": 21,
   "metadata": {},
   "outputs": [
    {
     "name": "stdout",
     "output_type": "stream",
     "text": [
      "['copra (ball)_yellow', 'copra (milling)_yellow', 'cotton', 'cotton_long staple', 'soyabean', 'soyabean_black', 'sugar-cane', 'sugarcane', 'wheat(husked)', 'wheat(unhusked)']\n"
     ]
    }
   ],
   "source": [
    "#Performing same operations to check for duplicates\n",
    "redundant = (startswith(mandi_data[\"commodity\"].unique(), 5))\n",
    "\n",
    "redundant_intials = [k for k,v in redundant.items() if float(v) >= 2]\n",
    "redundant_names = list()\n",
    "for item1 in mandi_data[\"commodity\"].unique():\n",
    "    for item2 in redundant_intials:\n",
    "        if item2 in item1:\n",
    "            redundant_names.append(item1)\n",
    "            \n",
    "print(sorted(redundant_names))"
   ]
  },
  {
   "cell_type": "code",
   "execution_count": 22,
   "metadata": {},
   "outputs": [
    {
     "data": {
      "text/plain": [
       "jowar_hybrid              5\n",
       "gr.nut kernels            5\n",
       "niger-seed                5\n",
       "maize                     5\n",
       "soyabean                  5\n",
       "bajri                     5\n",
       "split black gram          5\n",
       "cotton_long staple        5\n",
       "copra (milling)_yellow    5\n",
       "sunflower                 5\n",
       "pigeon pea (tur)          5\n",
       "sesamum                   5\n",
       "rice(paddy-hus)           5\n",
       "copra (ball)_yellow       5\n",
       "coconut                   5\n",
       "spilt gerrn gram          5\n",
       "jute_yellow               5\n",
       "paddy-unhusked            5\n",
       "ragi_maldandi             5\n",
       "cotton                    5\n",
       "sorgum(jawar)             5\n",
       "barli                     4\n",
       "safflower                 4\n",
       "gram_yellow               4\n",
       "toria_yellow              4\n",
       "masur_yellow              4\n",
       "mustard                   4\n",
       "wheat(husked)             4\n",
       "wheat(unhusked)           4\n",
       "sugar-cane                4\n",
       "soyabean_black            3\n",
       "sugarcane                 1\n",
       "Name: commodity, dtype: int64"
      ]
     },
     "execution_count": 22,
     "metadata": {},
     "output_type": "execute_result"
    }
   ],
   "source": [
    "#Getting counts of all values\n",
    "mandi_data['commodity'].value_counts()"
   ]
  },
  {
   "cell_type": "markdown",
   "metadata": {},
   "source": [
    "### No Outliers in msprice when grouped by Crop type"
   ]
  },
  {
   "cell_type": "code",
   "execution_count": 23,
   "metadata": {},
   "outputs": [
    {
     "data": {
      "image/png": "[encoded data removed]",
      "text/plain": [
       "<matplotlib.figure.Figure at 0x1045ef4e0>"
      ]
     },
     "metadata": {},
     "output_type": "display_data"
    }
   ],
   "source": [
    "axes = mandi_data.boxplot(by='Type', \n",
    "                       column=['msprice'],grid=False)\n",
    "fig = axes.get_figure()\n",
    "\n",
    "fig.suptitle('')\n",
    "fig.set_figwidth(10)"
   ]
  },
  {
   "cell_type": "markdown",
   "metadata": {},
   "source": [
    "# Understanding Seasonality type "
   ]
  },
  {
   "cell_type": "markdown",
   "metadata": {},
   "source": [
    "### Keeping only clusters of APMC and Commodity which have data present for atleast an year"
   ]
  },
  {
   "cell_type": "code",
   "execution_count": 24,
   "metadata": {},
   "outputs": [],
   "source": [
    "monthly_data['date']=pd.to_datetime(monthly_data['date'])"
   ]
  },
  {
   "cell_type": "code",
   "execution_count": 25,
   "metadata": {},
   "outputs": [],
   "source": [
    "monthly_data = monthly_data.drop(['state_name','Month'],axis=1)\n",
    "monthly_data.reset_index(inplace=True,drop=True)\n",
    "monthly_data['month'] = pd.DatetimeIndex(monthly_data['date']).month\n",
    "y = monthly_data.groupby(['Commodity','APMC','Year']).date.agg('count').to_frame('count')\n",
    "y = y.reset_index()\n",
    "y[\"joined\"]=y[\"Commodity\"]+\"_\"+y[\"APMC\"]\n",
    "y = y[y['count']==12]\n",
    "joined = list(y.joined.unique())\n",
    "# counted = monthly_data.groupby(['Commodity','APMC','Year']).date.agg('count').to_frame('count')\n",
    "# counted = counted[counted['count']==12]\n",
    "\n",
    "# commodities = list(counted.index.get_level_values(0).unique())\n",
    "# apmc = list(counted.index.get_level_values(1).unique())\n",
    "# year = list(y.index.get_level_values(2).unique())\n",
    "\n",
    "# joined = [] #Create an empty list\n",
    "# for i in commodities: #iter each element in A\n",
    "#     for j in apmc: #iter each element in B\n",
    "#         mult = i+\"_\"+j\n",
    "#         joined.append(mult) #Append the result in the list C\n",
    "        \n",
    "# monthly_data[\"joined\"]=monthly_data[\"Commodity\"]+\"_\"+monthly_data[\"APMC\"]\n",
    "# monthly_data=monthly_data[monthly_data[\"joined\"].isin(joined)].reset_index(drop=True)\n",
    "# monthly_data = monthly_data[monthly_data['Year'].isin(year)]"
   ]
  },
  {
   "cell_type": "code",
   "execution_count": 26,
   "metadata": {},
   "outputs": [],
   "source": [
    "monthly_data[\"joined\"]=monthly_data[\"Commodity\"]+\"_\"+monthly_data[\"APMC\"]\n",
    "joined = list(y.joined.unique())\n",
    "monthly_data=monthly_data[monthly_data[\"joined\"].isin(joined)].reset_index(drop=True)"
   ]
  },
  {
   "cell_type": "code",
   "execution_count": 27,
   "metadata": {},
   "outputs": [],
   "source": [
    "# monthly_data = monthly_data[monthly_data.Year==2015]"
   ]
  },
  {
   "cell_type": "markdown",
   "metadata": {},
   "source": [
    "### Finding seasonality"
   ]
  },
  {
   "cell_type": "code",
   "execution_count": 28,
   "metadata": {},
   "outputs": [
    {
     "name": "stdout",
     "output_type": "stream",
     "text": [
      "175\n"
     ]
    }
   ],
   "source": [
    "import statsmodels.tsa.stattools as ts\n",
    "\n",
    "\n",
    "def augmented_dickey_fuller_test(df):\n",
    "    stationary = []\n",
    "    non_stat = []\n",
    "    apmc_comm = list(df['joined'].unique())\n",
    "    for ac in apmc_comm:\n",
    "        temp = df.loc[df['joined']==ac]\n",
    "        x = temp.modal_price.values\n",
    "        result = ts.adfuller(x,1)\n",
    "        p_value = result[1]\n",
    "        if p_value > 0.05:\n",
    "            non_stat.append(ac)\n",
    "        else:\n",
    "            stationary.append(ac)\n",
    "    return non_stat,stationary\n",
    "\n",
    "ns,s = augmented_dickey_fuller_test(monthly_data)\n",
    "print(len(ns))"
   ]
  },
  {
   "cell_type": "code",
   "execution_count": 29,
   "metadata": {},
   "outputs": [
    {
     "data": {
      "text/html": [
       "<div>\n",
       "<style scoped>\n",
       "    .dataframe tbody tr th:only-of-type {\n",
       "        vertical-align: middle;\n",
       "    }\n",
       "\n",
       "    .dataframe tbody tr th {\n",
       "        vertical-align: top;\n",
       "    }\n",
       "\n",
       "    .dataframe thead th {\n",
       "        text-align: right;\n",
       "    }\n",
       "</style>\n",
       "<table border=\"1\" class=\"dataframe\">\n",
       "  <thead>\n",
       "    <tr style=\"text-align: right;\">\n",
       "      <th></th>\n",
       "      <th>APMC</th>\n",
       "      <th>Commodity</th>\n",
       "      <th>Year</th>\n",
       "      <th>arrivals_in_qtl</th>\n",
       "      <th>min_price</th>\n",
       "      <th>max_price</th>\n",
       "      <th>modal_price</th>\n",
       "      <th>date</th>\n",
       "      <th>district_name</th>\n",
       "      <th>month</th>\n",
       "      <th>joined</th>\n",
       "    </tr>\n",
       "  </thead>\n",
       "  <tbody>\n",
       "    <tr>\n",
       "      <th>0</th>\n",
       "      <td>kopargaon</td>\n",
       "      <td>soybean</td>\n",
       "      <td>2014</td>\n",
       "      <td>216</td>\n",
       "      <td>2954</td>\n",
       "      <td>3247</td>\n",
       "      <td>3138</td>\n",
       "      <td>2014-09-01</td>\n",
       "      <td>Ahmadnagar</td>\n",
       "      <td>9</td>\n",
       "      <td>soybean_kopargaon</td>\n",
       "    </tr>\n",
       "    <tr>\n",
       "      <th>1</th>\n",
       "      <td>umared</td>\n",
       "      <td>sorgum(jawar)</td>\n",
       "      <td>2014</td>\n",
       "      <td>4</td>\n",
       "      <td>1775</td>\n",
       "      <td>1775</td>\n",
       "      <td>1775</td>\n",
       "      <td>2014-09-01</td>\n",
       "      <td>Nagpur</td>\n",
       "      <td>9</td>\n",
       "      <td>sorgum(jawar)_umared</td>\n",
       "    </tr>\n",
       "    <tr>\n",
       "      <th>2</th>\n",
       "      <td>rahata</td>\n",
       "      <td>maize</td>\n",
       "      <td>2014</td>\n",
       "      <td>8</td>\n",
       "      <td>1475</td>\n",
       "      <td>1475</td>\n",
       "      <td>1475</td>\n",
       "      <td>2014-09-01</td>\n",
       "      <td>Ahmadnagar</td>\n",
       "      <td>9</td>\n",
       "      <td>maize_rahata</td>\n",
       "    </tr>\n",
       "    <tr>\n",
       "      <th>3</th>\n",
       "      <td>savner</td>\n",
       "      <td>soybean</td>\n",
       "      <td>2014</td>\n",
       "      <td>137</td>\n",
       "      <td>2687</td>\n",
       "      <td>2966</td>\n",
       "      <td>2826</td>\n",
       "      <td>2014-09-01</td>\n",
       "      <td>Nagpur</td>\n",
       "      <td>9</td>\n",
       "      <td>soybean_savner</td>\n",
       "    </tr>\n",
       "    <tr>\n",
       "      <th>4</th>\n",
       "      <td>rahata</td>\n",
       "      <td>capsicum</td>\n",
       "      <td>2014</td>\n",
       "      <td>65</td>\n",
       "      <td>1842</td>\n",
       "      <td>2667</td>\n",
       "      <td>2258</td>\n",
       "      <td>2014-09-01</td>\n",
       "      <td>Ahmadnagar</td>\n",
       "      <td>9</td>\n",
       "      <td>capsicum_rahata</td>\n",
       "    </tr>\n",
       "  </tbody>\n",
       "</table>\n",
       "</div>"
      ],
      "text/plain": [
       "        APMC      Commodity  Year  arrivals_in_qtl  min_price  max_price  \\\n",
       "0  kopargaon        soybean  2014              216       2954       3247   \n",
       "1     umared  sorgum(jawar)  2014                4       1775       1775   \n",
       "2     rahata          maize  2014                8       1475       1475   \n",
       "3     savner        soybean  2014              137       2687       2966   \n",
       "4     rahata       capsicum  2014               65       1842       2667   \n",
       "\n",
       "   modal_price       date district_name  month                joined  \n",
       "0         3138 2014-09-01    Ahmadnagar      9     soybean_kopargaon  \n",
       "1         1775 2014-09-01        Nagpur      9  sorgum(jawar)_umared  \n",
       "2         1475 2014-09-01    Ahmadnagar      9          maize_rahata  \n",
       "3         2826 2014-09-01        Nagpur      9        soybean_savner  \n",
       "4         2258 2014-09-01    Ahmadnagar      9       capsicum_rahata  "
      ]
     },
     "execution_count": 29,
     "metadata": {},
     "output_type": "execute_result"
    }
   ],
   "source": [
    "monthly_data = monthly_data.sort_values(by=['date'])\n",
    "stationary = monthly_data[monthly_data[\"joined\"].isin(s)].reset_index(drop=True)\n",
    "stationary.head()\n",
    "\n",
    "#Detrending the stationary series--\n",
    "\n",
    "stationary['j_date'] = stationary[\"joined\"]+\"_\"+stationary[\"Year\"].apply(str)+\"_\"+stationary[\"month\"].apply(str)\n",
    "def detrend(df,s):\n",
    "    final=pd.DataFrame()\n",
    "    for t in s:\n",
    "        temp = df.loc[df['joined']==t]\n",
    "        temp = temp[[\"modal_price\",\"j_date\",\"date\"]] \n",
    "        temp.set_index('date', inplace=True)\n",
    "        cycle, trend = sm.tsa.filters.hpfilter(temp.modal_price,1600)\n",
    "        temp[\"cycle\"] = cycle\n",
    "        temp[\"trend\"] = trend\n",
    "        res = df.merge(temp, on=[\"j_date\",\"modal_price\"])\n",
    "        final = pd.concat([final,res]) \n",
    "    return final\n",
    "stationary = detrend(stationary,s)\n",
    "\n",
    "\n",
    "#Taking non-stationary pairs of Commodity and APMC now\n",
    "non_stationary = monthly_data[monthly_data[\"joined\"].isin(ns)].reset_index(drop=True)\n",
    "non_stationary.head()\n"
   ]
  },
  {
   "cell_type": "code",
   "execution_count": 31,
   "metadata": {},
   "outputs": [
    {
     "data": {
      "image/png": "[encoded data removed]",
      "text/plain": [
       "<matplotlib.figure.Figure at 0x10c3f17b8>"
      ]
     },
     "metadata": {},
     "output_type": "display_data"
    }
   ],
   "source": [
    "dat = non_stationary[non_stationary.joined=='soybean_kopargaon']\n",
    "dat = dat[['modal_price','date']]\n",
    "dat.set_index('date', inplace=True)\n",
    "dat.index = pd.to_datetime(dat.index)\n",
    "from matplotlib import pyplot\n",
    "result = seasonal_decompose(dat.modal_price,model='multiplicative',freq=4)\n",
    "result.plot()\n",
    "pyplot.show()"
   ]
  },
  {
   "cell_type": "code",
   "execution_count": 32,
   "metadata": {},
   "outputs": [],
   "source": [
    "def check_seasonality_type(df):\n",
    "    types = list(df[\"joined\"].unique())\n",
    "    multt = list()\n",
    "    addd = list()\n",
    "    for t in types:\n",
    "        temp = df.loc[df['joined']==t]\n",
    "        temp = temp[[\"modal_price\",\"joined\",\"date\"]] \n",
    "        temp.set_index('date', inplace=True)\n",
    "        add = seasonal_decompose(temp.modal_price, model='additive',freq=4)\n",
    "        mult = seasonal_decompose(temp.modal_price, model='multiplicative',freq=4)\n",
    "        add_acf=sm.tsa.stattools.acf(add.resid, missing='conservative')*2\n",
    "        add_acf=sum(add_acf)\n",
    "        mult_acf=sm.tsa.stattools.acf(mult.resid, missing='conservative')*2\n",
    "        mult_acf=sum(mult_acf)\n",
    "        if add_acf<mult_acf:\n",
    "            addd.append(t)\n",
    "        else:\n",
    "            multt.append(t)\n",
    "    return addd,multt"
   ]
  },
  {
   "cell_type": "code",
   "execution_count": 33,
   "metadata": {},
   "outputs": [],
   "source": [
    "add,mul=check_seasonality_type(non_stationary)"
   ]
  },
  {
   "cell_type": "code",
   "execution_count": 34,
   "metadata": {},
   "outputs": [],
   "source": [
    "non_stationary['seasonality']='additive'\n",
    "non_stationary.loc[non_stationary.joined.isin(mul),'seasonality']='multiplicative'"
   ]
  },
  {
   "cell_type": "code",
   "execution_count": 35,
   "metadata": {},
   "outputs": [],
   "source": [
    "non_stationary.to_csv(\"/Users/gautamchauhan21/Downloads/non_stationary.csv\",index=False)"
   ]
  },
  {
   "cell_type": "code",
   "execution_count": 36,
   "metadata": {},
   "outputs": [],
   "source": [
    "non_stationary = pd.read_csv(\"/Users/gautamchauhan21/Downloads/non_stationary.csv\")"
   ]
  },
  {
   "cell_type": "code",
   "execution_count": 37,
   "metadata": {},
   "outputs": [],
   "source": [
    "#Function to add a column for detrended values as well as deseasonalised\n",
    "def deseasonalise_prices(df):\n",
    "    final=pd.DataFrame()\n",
    "    types = list(df[\"joined\"].unique())\n",
    "    for t in types:\n",
    "        temp = df.loc[df['joined']==t]\n",
    "        temp = temp[[\"modal_price\",\"joined\",\"date\",\"seasonality\"]] \n",
    "        temp.set_index('date', inplace=True)\n",
    "        if temp[\"seasonality\"].all()=='additive':\n",
    "            res = seasonal_decompose(temp.modal_price,model='additive',freq=4)\n",
    "            temp['detrended']=res.trend.values\n",
    "            temp['seasonal']=res.seasonal.values\n",
    "            temp['deseasonalised']=temp['modal_price']-temp['seasonal']\n",
    "        else:\n",
    "            res = seasonal_decompose(temp.modal_price,model='multiplicative',freq=4)\n",
    "            temp['detrended']=res.trend.values\n",
    "            temp['seasonal']=res.seasonal.values\n",
    "            temp['deseasonalised']=temp['modal_price']/temp['seasonal']\n",
    "        res = df.merge(temp, on=[\"joined\",\"modal_price\",\"seasonality\"])\n",
    "        final = pd.concat([final,res],sort=False)\n",
    "        final = final.dropna(how='any')\n",
    "        final.reset_index(drop=True,inplace=True)\n",
    "    return final"
   ]
  },
  {
   "cell_type": "code",
   "execution_count": 38,
   "metadata": {},
   "outputs": [
    {
     "data": {
      "text/plain": [
       "Index(['APMC', 'Commodity', 'Year', 'arrivals_in_qtl', 'min_price',\n",
       "       'max_price', 'modal_price', 'date', 'district_name', 'month', 'joined',\n",
       "       'seasonality', 'detrended', 'seasonal', 'deseasonalised'],\n",
       "      dtype='object')"
      ]
     },
     "execution_count": 38,
     "metadata": {},
     "output_type": "execute_result"
    }
   ],
   "source": [
    "non_stationary = deseasonalise_prices(non_stationary)\n",
    "non_stationary.columns"
   ]
  },
  {
   "cell_type": "code",
   "execution_count": 39,
   "metadata": {},
   "outputs": [],
   "source": [
    "non_stationary = non_stationary.drop(['seasonal'],axis=1)"
   ]
  },
  {
   "cell_type": "code",
   "execution_count": null,
   "metadata": {},
   "outputs": [],
   "source": [
    "non_stationary"
   ]
  },
  {
   "cell_type": "code",
   "execution_count": 49,
   "metadata": {},
   "outputs": [
    {
     "data": {
      "text/html": [
       "<script type=\"text/javascript\">window.PlotlyConfig = {MathJaxConfig: 'local'};</script><script type=\"text/javascript\">if (window.MathJax) {MathJax.Hub.Config({SVG: {font: \"STIX-Web\"}});}</script><script>requirejs.config({paths: { 'plotly': ['https://cdn.plot.ly/plotly-latest.min']},});if(!window._Plotly) {require(['plotly'],function(plotly) {window._Plotly=plotly;});}</script>"
      ],
      "text/vnd.plotly.v1+html": [
       "<script type=\"text/javascript\">window.PlotlyConfig = {MathJaxConfig: 'local'};</script><script type=\"text/javascript\">if (window.MathJax) {MathJax.Hub.Config({SVG: {font: \"STIX-Web\"}});}</script><script>requirejs.config({paths: { 'plotly': ['https://cdn.plot.ly/plotly-latest.min']},});if(!window._Plotly) {require(['plotly'],function(plotly) {window._Plotly=plotly;});}</script>"
      ]
     },
     "metadata": {},
     "output_type": "display_data"
    }
   ],
   "source": [
    "import plotly.plotly as py\n",
    "import plotly.graph_objs as go\n",
    "from plotly.offline import iplot\n",
    "import plotly.offline as offline\n",
    "offline.init_notebook_mode(connected=True)\n",
    "from plotly import tools\n",
    "import plotly.tools as tls"
   ]
  },
  {
   "cell_type": "code",
   "execution_count": null,
   "metadata": {},
   "outputs": [],
   "source": [
    "dat = non_stationary[non_stationary.joined=='gram_hingoli']\n",
    "dat = dat[['modal_price','date','deseasonalised']]\n",
    "# dat.index = pd.to_datetime(dat.index)"
   ]
  },
  {
   "cell_type": "code",
   "execution_count": 52,
   "metadata": {},
   "outputs": [],
   "source": [
    "#Function which plots actual price, deseasonalised and minimum support price\n",
    "\n",
    "def plot_graph(dat,dat1):\n",
    "    trace_high = go.Scatter(\n",
    "        x=dat.date,\n",
    "        y=dat['deseasonalised'],\n",
    "        name = \"Deseasonalised Prices\",\n",
    "        line = dict(color = '#17BECF'),\n",
    "        opacity = 0.8)\n",
    "\n",
    "    trace_low = go.Scatter(\n",
    "        x=dat1.year,\n",
    "        y=dat1['msprice'],\n",
    "        name = \"Minimum Support Price\",\n",
    "        line = dict(color = '#7F7F7F'),\n",
    "        opacity = 0.8)\n",
    "\n",
    "    data = [trace_high,trace_low]\n",
    "\n",
    "    layout = dict(\n",
    "        title=\"Comparing Modal Price with Deseasonalised Prices\",\n",
    "        xaxis=dict(\n",
    "            rangeselector=dict(\n",
    "                buttons=list([\n",
    "                    dict(count=1,\n",
    "                         label='1m',\n",
    "                         step='month',\n",
    "                         stepmode='backward'),\n",
    "                    dict(count=6,\n",
    "                         label='6m',\n",
    "                         step='month',\n",
    "                         stepmode='backward'),\n",
    "                    dict(step='all')\n",
    "                ])\n",
    "            ),\n",
    "            rangeslider=dict(\n",
    "                visible = True\n",
    "            ),\n",
    "            type='date'\n",
    "        )\n",
    "    )\n",
    "\n",
    "    fig = dict(data=data, layout=layout)\n",
    "    iplot(fig, filename = \"Time Series with Rangeslider\")\n",
    "    \n",
    "\n",
    "\n",
    "def plot_msp_price():\n",
    "    commodity = str(input(\"Give an input commodity\"))\n",
    "    apmc = str(input(\"Give APMC\"))\n",
    "    commodity = commodity.lower()\n",
    "    apmc= apmc.lower()\n",
    "    join = commodity+\"_\"+apmc\n",
    "    if join in non_stationary.joined.values:\n",
    "        temp = non_stationary.loc[non_stationary['joined']==join]\n",
    "        temp = temp[['modal_price','date','deseasonalised']] \n",
    "        if commodity in mandi_data.commodity.values:\n",
    "            temp1 = mandi_data.loc[mandi_data['commodity']==commodity]\n",
    "            plot_graph(temp,temp1)\n",
    "        else:\n",
    "            print(\"Commodity not in Mandi data, please try again\")\n",
    "            plot_msp_price()\n",
    "    else:\n",
    "        print(\"Given APMC and Commodity combination does not exist!\\nPlease try again\")\n",
    "        plot_msp_price()"
   ]
  },
  {
   "cell_type": "code",
   "execution_count": null,
   "metadata": {},
   "outputs": [
    {
     "name": "stdout",
     "output_type": "stream",
     "text": [
      "Give an input commoditypaddy\n",
      "Give APMCmeow\n",
      "Given APMC and Commodity combination does not exist!\n",
      "Please try again\n"
     ]
    }
   ],
   "source": [
    "plot_msp_price()"
   ]
  },
  {
   "cell_type": "code",
   "execution_count": 44,
   "metadata": {},
   "outputs": [
    {
     "data": {
      "text/html": [
       "<div>\n",
       "<style scoped>\n",
       "    .dataframe tbody tr th:only-of-type {\n",
       "        vertical-align: middle;\n",
       "    }\n",
       "\n",
       "    .dataframe tbody tr th {\n",
       "        vertical-align: top;\n",
       "    }\n",
       "\n",
       "    .dataframe thead th {\n",
       "        text-align: right;\n",
       "    }\n",
       "</style>\n",
       "<table border=\"1\" class=\"dataframe\">\n",
       "  <thead>\n",
       "    <tr style=\"text-align: right;\">\n",
       "      <th></th>\n",
       "      <th>commodity</th>\n",
       "      <th>year</th>\n",
       "      <th>Type</th>\n",
       "      <th>msprice</th>\n",
       "      <th>msp_filter</th>\n",
       "    </tr>\n",
       "  </thead>\n",
       "  <tbody>\n",
       "    <tr>\n",
       "      <th>0</th>\n",
       "      <td>paddy-unhusked</td>\n",
       "      <td>2012</td>\n",
       "      <td>Kharif Crops</td>\n",
       "      <td>1250.0</td>\n",
       "      <td>1</td>\n",
       "    </tr>\n",
       "    <tr>\n",
       "      <th>1</th>\n",
       "      <td>rice(paddy-hus)</td>\n",
       "      <td>2012</td>\n",
       "      <td>Kharif Crops</td>\n",
       "      <td>1280.0</td>\n",
       "      <td>1</td>\n",
       "    </tr>\n",
       "    <tr>\n",
       "      <th>2</th>\n",
       "      <td>jowar_hybrid</td>\n",
       "      <td>2012</td>\n",
       "      <td>Kharif Crops</td>\n",
       "      <td>1500.0</td>\n",
       "      <td>1</td>\n",
       "    </tr>\n",
       "    <tr>\n",
       "      <th>3</th>\n",
       "      <td>sorgum(jawar)</td>\n",
       "      <td>2012</td>\n",
       "      <td>Kharif Crops</td>\n",
       "      <td>1520.0</td>\n",
       "      <td>1</td>\n",
       "    </tr>\n",
       "    <tr>\n",
       "      <th>4</th>\n",
       "      <td>bajri</td>\n",
       "      <td>2012</td>\n",
       "      <td>Kharif Crops</td>\n",
       "      <td>1175.0</td>\n",
       "      <td>1</td>\n",
       "    </tr>\n",
       "    <tr>\n",
       "      <th>5</th>\n",
       "      <td>maize</td>\n",
       "      <td>2012</td>\n",
       "      <td>Kharif Crops</td>\n",
       "      <td>1175.0</td>\n",
       "      <td>1</td>\n",
       "    </tr>\n",
       "    <tr>\n",
       "      <th>6</th>\n",
       "      <td>ragi_maldandi</td>\n",
       "      <td>2012</td>\n",
       "      <td>Kharif Crops</td>\n",
       "      <td>1500.0</td>\n",
       "      <td>1</td>\n",
       "    </tr>\n",
       "    <tr>\n",
       "      <th>7</th>\n",
       "      <td>pigeon pea (tur)</td>\n",
       "      <td>2012</td>\n",
       "      <td>Kharif Crops</td>\n",
       "      <td>3850.0</td>\n",
       "      <td>1</td>\n",
       "    </tr>\n",
       "    <tr>\n",
       "      <th>8</th>\n",
       "      <td>spilt gerrn gram</td>\n",
       "      <td>2012</td>\n",
       "      <td>Kharif Crops</td>\n",
       "      <td>4400.0</td>\n",
       "      <td>1</td>\n",
       "    </tr>\n",
       "    <tr>\n",
       "      <th>9</th>\n",
       "      <td>split black gram</td>\n",
       "      <td>2012</td>\n",
       "      <td>Kharif Crops</td>\n",
       "      <td>4300.0</td>\n",
       "      <td>1</td>\n",
       "    </tr>\n",
       "    <tr>\n",
       "      <th>10</th>\n",
       "      <td>cotton</td>\n",
       "      <td>2012</td>\n",
       "      <td>Kharif Crops</td>\n",
       "      <td>3600.0</td>\n",
       "      <td>1</td>\n",
       "    </tr>\n",
       "    <tr>\n",
       "      <th>11</th>\n",
       "      <td>cotton_long staple</td>\n",
       "      <td>2012</td>\n",
       "      <td>Kharif Crops</td>\n",
       "      <td>3900.0</td>\n",
       "      <td>1</td>\n",
       "    </tr>\n",
       "    <tr>\n",
       "      <th>12</th>\n",
       "      <td>gr.nut kernels</td>\n",
       "      <td>2012</td>\n",
       "      <td>Kharif Crops</td>\n",
       "      <td>3700.0</td>\n",
       "      <td>1</td>\n",
       "    </tr>\n",
       "    <tr>\n",
       "      <th>13</th>\n",
       "      <td>sunflower</td>\n",
       "      <td>2012</td>\n",
       "      <td>Kharif Crops</td>\n",
       "      <td>3700.0</td>\n",
       "      <td>1</td>\n",
       "    </tr>\n",
       "    <tr>\n",
       "      <th>14</th>\n",
       "      <td>soyabean_black</td>\n",
       "      <td>2012</td>\n",
       "      <td>Kharif Crops</td>\n",
       "      <td>2200.0</td>\n",
       "      <td>1</td>\n",
       "    </tr>\n",
       "    <tr>\n",
       "      <th>15</th>\n",
       "      <td>soyabean</td>\n",
       "      <td>2012</td>\n",
       "      <td>Kharif Crops</td>\n",
       "      <td>2240.0</td>\n",
       "      <td>1</td>\n",
       "    </tr>\n",
       "    <tr>\n",
       "      <th>16</th>\n",
       "      <td>sesamum</td>\n",
       "      <td>2012</td>\n",
       "      <td>Kharif Crops</td>\n",
       "      <td>4200.0</td>\n",
       "      <td>1</td>\n",
       "    </tr>\n",
       "    <tr>\n",
       "      <th>17</th>\n",
       "      <td>niger-seed</td>\n",
       "      <td>2012</td>\n",
       "      <td>Kharif Crops</td>\n",
       "      <td>3500.0</td>\n",
       "      <td>1</td>\n",
       "    </tr>\n",
       "    <tr>\n",
       "      <th>18</th>\n",
       "      <td>wheat(husked)</td>\n",
       "      <td>2012</td>\n",
       "      <td>Rabi Crops</td>\n",
       "      <td>1350.0</td>\n",
       "      <td>1</td>\n",
       "    </tr>\n",
       "    <tr>\n",
       "      <th>19</th>\n",
       "      <td>wheat(unhusked)</td>\n",
       "      <td>2012</td>\n",
       "      <td>Rabi Crops</td>\n",
       "      <td>1350.0</td>\n",
       "      <td>1</td>\n",
       "    </tr>\n",
       "    <tr>\n",
       "      <th>20</th>\n",
       "      <td>barli</td>\n",
       "      <td>2012</td>\n",
       "      <td>Rabi Crops</td>\n",
       "      <td>980.0</td>\n",
       "      <td>1</td>\n",
       "    </tr>\n",
       "    <tr>\n",
       "      <th>21</th>\n",
       "      <td>gram_yellow</td>\n",
       "      <td>2012</td>\n",
       "      <td>Rabi Crops</td>\n",
       "      <td>3000.0</td>\n",
       "      <td>1</td>\n",
       "    </tr>\n",
       "    <tr>\n",
       "      <th>22</th>\n",
       "      <td>masur_yellow</td>\n",
       "      <td>2012</td>\n",
       "      <td>Rabi Crops</td>\n",
       "      <td>2900.0</td>\n",
       "      <td>1</td>\n",
       "    </tr>\n",
       "    <tr>\n",
       "      <th>23</th>\n",
       "      <td>mustard</td>\n",
       "      <td>2012</td>\n",
       "      <td>Rabi Crops</td>\n",
       "      <td>3000.0</td>\n",
       "      <td>1</td>\n",
       "    </tr>\n",
       "    <tr>\n",
       "      <th>24</th>\n",
       "      <td>safflower</td>\n",
       "      <td>2012</td>\n",
       "      <td>Rabi Crops</td>\n",
       "      <td>2800.0</td>\n",
       "      <td>1</td>\n",
       "    </tr>\n",
       "    <tr>\n",
       "      <th>25</th>\n",
       "      <td>toria_yellow</td>\n",
       "      <td>2012</td>\n",
       "      <td>Rabi Crops</td>\n",
       "      <td>2970.0</td>\n",
       "      <td>1</td>\n",
       "    </tr>\n",
       "    <tr>\n",
       "      <th>26</th>\n",
       "      <td>copra (milling)_yellow</td>\n",
       "      <td>2012</td>\n",
       "      <td>Other Crops</td>\n",
       "      <td>5100.0</td>\n",
       "      <td>1</td>\n",
       "    </tr>\n",
       "    <tr>\n",
       "      <th>27</th>\n",
       "      <td>copra (ball)_yellow</td>\n",
       "      <td>2012</td>\n",
       "      <td>Other Crops</td>\n",
       "      <td>5350.0</td>\n",
       "      <td>1</td>\n",
       "    </tr>\n",
       "    <tr>\n",
       "      <th>28</th>\n",
       "      <td>coconut</td>\n",
       "      <td>2012</td>\n",
       "      <td>Other Crops</td>\n",
       "      <td>1400.0</td>\n",
       "      <td>1</td>\n",
       "    </tr>\n",
       "    <tr>\n",
       "      <th>29</th>\n",
       "      <td>jute_yellow</td>\n",
       "      <td>2012</td>\n",
       "      <td>Other Crops</td>\n",
       "      <td>2200.0</td>\n",
       "      <td>1</td>\n",
       "    </tr>\n",
       "    <tr>\n",
       "      <th>...</th>\n",
       "      <td>...</td>\n",
       "      <td>...</td>\n",
       "      <td>...</td>\n",
       "      <td>...</td>\n",
       "      <td>...</td>\n",
       "    </tr>\n",
       "    <tr>\n",
       "      <th>116</th>\n",
       "      <td>mustard</td>\n",
       "      <td>2015</td>\n",
       "      <td>Rabi Crops</td>\n",
       "      <td>3350.0</td>\n",
       "      <td>1</td>\n",
       "    </tr>\n",
       "    <tr>\n",
       "      <th>117</th>\n",
       "      <td>safflower</td>\n",
       "      <td>2015</td>\n",
       "      <td>Rabi Crops</td>\n",
       "      <td>3300.0</td>\n",
       "      <td>1</td>\n",
       "    </tr>\n",
       "    <tr>\n",
       "      <th>118</th>\n",
       "      <td>toria_yellow</td>\n",
       "      <td>2015</td>\n",
       "      <td>Rabi Crops</td>\n",
       "      <td>3290.0</td>\n",
       "      <td>1</td>\n",
       "    </tr>\n",
       "    <tr>\n",
       "      <th>119</th>\n",
       "      <td>copra (milling)_yellow</td>\n",
       "      <td>2015</td>\n",
       "      <td>Other Crops</td>\n",
       "      <td>5550.0</td>\n",
       "      <td>1</td>\n",
       "    </tr>\n",
       "    <tr>\n",
       "      <th>120</th>\n",
       "      <td>copra (ball)_yellow</td>\n",
       "      <td>2015</td>\n",
       "      <td>Other Crops</td>\n",
       "      <td>5830.0</td>\n",
       "      <td>1</td>\n",
       "    </tr>\n",
       "    <tr>\n",
       "      <th>121</th>\n",
       "      <td>coconut</td>\n",
       "      <td>2015</td>\n",
       "      <td>Other Crops</td>\n",
       "      <td>1500.0</td>\n",
       "      <td>1</td>\n",
       "    </tr>\n",
       "    <tr>\n",
       "      <th>122</th>\n",
       "      <td>jute_yellow</td>\n",
       "      <td>2015</td>\n",
       "      <td>Other Crops</td>\n",
       "      <td>2700.0</td>\n",
       "      <td>1</td>\n",
       "    </tr>\n",
       "    <tr>\n",
       "      <th>123</th>\n",
       "      <td>sugar-cane</td>\n",
       "      <td>2015</td>\n",
       "      <td>Other Crops</td>\n",
       "      <td>230.0</td>\n",
       "      <td>1</td>\n",
       "    </tr>\n",
       "    <tr>\n",
       "      <th>124</th>\n",
       "      <td>paddy-unhusked</td>\n",
       "      <td>2016</td>\n",
       "      <td>Kharif Crops</td>\n",
       "      <td>1470.0</td>\n",
       "      <td>1</td>\n",
       "    </tr>\n",
       "    <tr>\n",
       "      <th>125</th>\n",
       "      <td>rice(paddy-hus)</td>\n",
       "      <td>2016</td>\n",
       "      <td>Kharif Crops</td>\n",
       "      <td>1510.0</td>\n",
       "      <td>1</td>\n",
       "    </tr>\n",
       "    <tr>\n",
       "      <th>126</th>\n",
       "      <td>jowar_hybrid</td>\n",
       "      <td>2016</td>\n",
       "      <td>Kharif Crops</td>\n",
       "      <td>1625.0</td>\n",
       "      <td>1</td>\n",
       "    </tr>\n",
       "    <tr>\n",
       "      <th>127</th>\n",
       "      <td>sorgum(jawar)</td>\n",
       "      <td>2016</td>\n",
       "      <td>Kharif Crops</td>\n",
       "      <td>1650.0</td>\n",
       "      <td>1</td>\n",
       "    </tr>\n",
       "    <tr>\n",
       "      <th>128</th>\n",
       "      <td>bajri</td>\n",
       "      <td>2016</td>\n",
       "      <td>Kharif Crops</td>\n",
       "      <td>1330.0</td>\n",
       "      <td>1</td>\n",
       "    </tr>\n",
       "    <tr>\n",
       "      <th>129</th>\n",
       "      <td>maize</td>\n",
       "      <td>2016</td>\n",
       "      <td>Kharif Crops</td>\n",
       "      <td>1365.0</td>\n",
       "      <td>1</td>\n",
       "    </tr>\n",
       "    <tr>\n",
       "      <th>130</th>\n",
       "      <td>ragi_maldandi</td>\n",
       "      <td>2016</td>\n",
       "      <td>Kharif Crops</td>\n",
       "      <td>1725.0</td>\n",
       "      <td>1</td>\n",
       "    </tr>\n",
       "    <tr>\n",
       "      <th>131</th>\n",
       "      <td>pigeon pea (tur)</td>\n",
       "      <td>2016</td>\n",
       "      <td>Kharif Crops</td>\n",
       "      <td>4625.0</td>\n",
       "      <td>1</td>\n",
       "    </tr>\n",
       "    <tr>\n",
       "      <th>132</th>\n",
       "      <td>spilt gerrn gram</td>\n",
       "      <td>2016</td>\n",
       "      <td>Kharif Crops</td>\n",
       "      <td>4800.0</td>\n",
       "      <td>1</td>\n",
       "    </tr>\n",
       "    <tr>\n",
       "      <th>133</th>\n",
       "      <td>split black gram</td>\n",
       "      <td>2016</td>\n",
       "      <td>Kharif Crops</td>\n",
       "      <td>4575.0</td>\n",
       "      <td>1</td>\n",
       "    </tr>\n",
       "    <tr>\n",
       "      <th>134</th>\n",
       "      <td>cotton</td>\n",
       "      <td>2016</td>\n",
       "      <td>Kharif Crops</td>\n",
       "      <td>3860.0</td>\n",
       "      <td>1</td>\n",
       "    </tr>\n",
       "    <tr>\n",
       "      <th>135</th>\n",
       "      <td>cotton_long staple</td>\n",
       "      <td>2016</td>\n",
       "      <td>Kharif Crops</td>\n",
       "      <td>4160.0</td>\n",
       "      <td>1</td>\n",
       "    </tr>\n",
       "    <tr>\n",
       "      <th>136</th>\n",
       "      <td>gr.nut kernels</td>\n",
       "      <td>2016</td>\n",
       "      <td>Kharif Crops</td>\n",
       "      <td>4120.0</td>\n",
       "      <td>1</td>\n",
       "    </tr>\n",
       "    <tr>\n",
       "      <th>137</th>\n",
       "      <td>sunflower</td>\n",
       "      <td>2016</td>\n",
       "      <td>Kharif Crops</td>\n",
       "      <td>3850.0</td>\n",
       "      <td>1</td>\n",
       "    </tr>\n",
       "    <tr>\n",
       "      <th>139</th>\n",
       "      <td>soyabean</td>\n",
       "      <td>2016</td>\n",
       "      <td>Kharif Crops</td>\n",
       "      <td>2675.0</td>\n",
       "      <td>1</td>\n",
       "    </tr>\n",
       "    <tr>\n",
       "      <th>140</th>\n",
       "      <td>sesamum</td>\n",
       "      <td>2016</td>\n",
       "      <td>Kharif Crops</td>\n",
       "      <td>4800.0</td>\n",
       "      <td>1</td>\n",
       "    </tr>\n",
       "    <tr>\n",
       "      <th>141</th>\n",
       "      <td>niger-seed</td>\n",
       "      <td>2016</td>\n",
       "      <td>Kharif Crops</td>\n",
       "      <td>3725.0</td>\n",
       "      <td>1</td>\n",
       "    </tr>\n",
       "    <tr>\n",
       "      <th>150</th>\n",
       "      <td>copra (milling)_yellow</td>\n",
       "      <td>2016</td>\n",
       "      <td>Other Crops</td>\n",
       "      <td>5950.0</td>\n",
       "      <td>1</td>\n",
       "    </tr>\n",
       "    <tr>\n",
       "      <th>151</th>\n",
       "      <td>copra (ball)_yellow</td>\n",
       "      <td>2016</td>\n",
       "      <td>Other Crops</td>\n",
       "      <td>6240.0</td>\n",
       "      <td>1</td>\n",
       "    </tr>\n",
       "    <tr>\n",
       "      <th>152</th>\n",
       "      <td>coconut</td>\n",
       "      <td>2016</td>\n",
       "      <td>Other Crops</td>\n",
       "      <td>1600.0</td>\n",
       "      <td>1</td>\n",
       "    </tr>\n",
       "    <tr>\n",
       "      <th>153</th>\n",
       "      <td>jute_yellow</td>\n",
       "      <td>2016</td>\n",
       "      <td>Other Crops</td>\n",
       "      <td>3200.0</td>\n",
       "      <td>1</td>\n",
       "    </tr>\n",
       "    <tr>\n",
       "      <th>154</th>\n",
       "      <td>sugarcane</td>\n",
       "      <td>2016</td>\n",
       "      <td>Other Crops</td>\n",
       "      <td>230.0</td>\n",
       "      <td>1</td>\n",
       "    </tr>\n",
       "  </tbody>\n",
       "</table>\n",
       "<p>145 rows × 5 columns</p>\n",
       "</div>"
      ],
      "text/plain": [
       "                  commodity  year          Type  msprice  msp_filter\n",
       "0            paddy-unhusked  2012  Kharif Crops   1250.0           1\n",
       "1           rice(paddy-hus)  2012  Kharif Crops   1280.0           1\n",
       "2              jowar_hybrid  2012  Kharif Crops   1500.0           1\n",
       "3             sorgum(jawar)  2012  Kharif Crops   1520.0           1\n",
       "4                     bajri  2012  Kharif Crops   1175.0           1\n",
       "5                     maize  2012  Kharif Crops   1175.0           1\n",
       "6             ragi_maldandi  2012  Kharif Crops   1500.0           1\n",
       "7          pigeon pea (tur)  2012  Kharif Crops   3850.0           1\n",
       "8          spilt gerrn gram  2012  Kharif Crops   4400.0           1\n",
       "9          split black gram  2012  Kharif Crops   4300.0           1\n",
       "10                   cotton  2012  Kharif Crops   3600.0           1\n",
       "11       cotton_long staple  2012  Kharif Crops   3900.0           1\n",
       "12           gr.nut kernels  2012  Kharif Crops   3700.0           1\n",
       "13                sunflower  2012  Kharif Crops   3700.0           1\n",
       "14           soyabean_black  2012  Kharif Crops   2200.0           1\n",
       "15                 soyabean  2012  Kharif Crops   2240.0           1\n",
       "16                  sesamum  2012  Kharif Crops   4200.0           1\n",
       "17               niger-seed  2012  Kharif Crops   3500.0           1\n",
       "18            wheat(husked)  2012    Rabi Crops   1350.0           1\n",
       "19          wheat(unhusked)  2012    Rabi Crops   1350.0           1\n",
       "20                    barli  2012    Rabi Crops    980.0           1\n",
       "21              gram_yellow  2012    Rabi Crops   3000.0           1\n",
       "22             masur_yellow  2012    Rabi Crops   2900.0           1\n",
       "23                  mustard  2012    Rabi Crops   3000.0           1\n",
       "24                safflower  2012    Rabi Crops   2800.0           1\n",
       "25             toria_yellow  2012    Rabi Crops   2970.0           1\n",
       "26   copra (milling)_yellow  2012   Other Crops   5100.0           1\n",
       "27      copra (ball)_yellow  2012   Other Crops   5350.0           1\n",
       "28                  coconut  2012   Other Crops   1400.0           1\n",
       "29              jute_yellow  2012   Other Crops   2200.0           1\n",
       "..                      ...   ...           ...      ...         ...\n",
       "116                 mustard  2015    Rabi Crops   3350.0           1\n",
       "117               safflower  2015    Rabi Crops   3300.0           1\n",
       "118            toria_yellow  2015    Rabi Crops   3290.0           1\n",
       "119  copra (milling)_yellow  2015   Other Crops   5550.0           1\n",
       "120     copra (ball)_yellow  2015   Other Crops   5830.0           1\n",
       "121                 coconut  2015   Other Crops   1500.0           1\n",
       "122             jute_yellow  2015   Other Crops   2700.0           1\n",
       "123              sugar-cane  2015   Other Crops    230.0           1\n",
       "124          paddy-unhusked  2016  Kharif Crops   1470.0           1\n",
       "125         rice(paddy-hus)  2016  Kharif Crops   1510.0           1\n",
       "126            jowar_hybrid  2016  Kharif Crops   1625.0           1\n",
       "127           sorgum(jawar)  2016  Kharif Crops   1650.0           1\n",
       "128                   bajri  2016  Kharif Crops   1330.0           1\n",
       "129                   maize  2016  Kharif Crops   1365.0           1\n",
       "130           ragi_maldandi  2016  Kharif Crops   1725.0           1\n",
       "131        pigeon pea (tur)  2016  Kharif Crops   4625.0           1\n",
       "132        spilt gerrn gram  2016  Kharif Crops   4800.0           1\n",
       "133        split black gram  2016  Kharif Crops   4575.0           1\n",
       "134                  cotton  2016  Kharif Crops   3860.0           1\n",
       "135      cotton_long staple  2016  Kharif Crops   4160.0           1\n",
       "136          gr.nut kernels  2016  Kharif Crops   4120.0           1\n",
       "137               sunflower  2016  Kharif Crops   3850.0           1\n",
       "139                soyabean  2016  Kharif Crops   2675.0           1\n",
       "140                 sesamum  2016  Kharif Crops   4800.0           1\n",
       "141              niger-seed  2016  Kharif Crops   3725.0           1\n",
       "150  copra (milling)_yellow  2016   Other Crops   5950.0           1\n",
       "151     copra (ball)_yellow  2016   Other Crops   6240.0           1\n",
       "152                 coconut  2016   Other Crops   1600.0           1\n",
       "153             jute_yellow  2016   Other Crops   3200.0           1\n",
       "154               sugarcane  2016   Other Crops    230.0           1\n",
       "\n",
       "[145 rows x 5 columns]"
      ]
     },
     "execution_count": 44,
     "metadata": {},
     "output_type": "execute_result"
    }
   ],
   "source": [
    "mandi_data"
   ]
  },
  {
   "cell_type": "code",
   "execution_count": null,
   "metadata": {},
   "outputs": [],
   "source": []
  }
 ],
 "metadata": {
  "kernelspec": {
   "display_name": "Python 3",
   "language": "python",
   "name": "python3"
  },
  "language_info": {
   "codemirror_mode": {
    "name": "ipython",
    "version": 3
   },
   "file_extension": ".py",
   "mimetype": "text/x-python",
   "name": "python",
   "nbconvert_exporter": "python",
   "pygments_lexer": "ipython3",
   "version": "3.6.6"
  }
 },
 "nbformat": 4,
 "nbformat_minor": 2
}
