{
 "cells": [
  {
   "cell_type": "markdown",
   "metadata": {},
   "source": [
    "## Function which plots deseasonalised and minimum support price"
   ]
  },
  {
   "cell_type": "code",
   "execution_count": 17,
   "metadata": {},
   "outputs": [
    {
     "data": {
      "text/html": [
       "<script type=\"text/javascript\">window.PlotlyConfig = {MathJaxConfig: 'local'};</script><script type=\"text/javascript\">if (window.MathJax) {MathJax.Hub.Config({SVG: {font: \"STIX-Web\"}});}</script><script>requirejs.config({paths: { 'plotly': ['https://cdn.plot.ly/plotly-latest.min']},});if(!window._Plotly) {require(['plotly'],function(plotly) {window._Plotly=plotly;});}</script>"
      ],
      "text/vnd.plotly.v1+html": [
       "<script type=\"text/javascript\">window.PlotlyConfig = {MathJaxConfig: 'local'};</script><script type=\"text/javascript\">if (window.MathJax) {MathJax.Hub.Config({SVG: {font: \"STIX-Web\"}});}</script><script>requirejs.config({paths: { 'plotly': ['https://cdn.plot.ly/plotly-latest.min']},});if(!window._Plotly) {require(['plotly'],function(plotly) {window._Plotly=plotly;});}</script>"
      ]
     },
     "metadata": {},
     "output_type": "display_data"
    }
   ],
   "source": [
    "#importing modules\n",
    "import pandas as pd\n",
    "\n",
    "import plotly.plotly as py\n",
    "import plotly.graph_objs as go\n",
    "from plotly.offline import iplot\n",
    "import plotly.offline as offline\n",
    "offline.init_notebook_mode(connected=True)\n",
    "\n",
    "#Reading the data\n",
    "non_stationary = pd.read_csv(\"/Users/gautamchauhan21/social cops/Analysis-of-Agricultural-data/non_stationary.csv\")\n",
    "mandi_data = pd.read_csv(\"/Users/gautamchauhan21/social cops/Analysis-of-Agricultural-data/mandi_data_1.csv\")"
   ]
  },
  {
   "cell_type": "code",
   "execution_count": 18,
   "metadata": {},
   "outputs": [],
   "source": [
    "#Takes only values of APMC and Commodity present in non_stationary dataframe in which deseasonalised prices are stored\n",
    "\n",
    "def plot_graph(dat,dat1):\n",
    "    dat = dat.sort_values(by=['date'])\n",
    "    high = go.Scatter(\n",
    "        x=dat.date,\n",
    "        y=dat['deseasonalised'],\n",
    "        name = \"Deseasonalised Prices\",\n",
    "        line = dict(color = '#17BECF'),\n",
    "        opacity = 0.8)\n",
    "\n",
    "    low = go.Scatter(\n",
    "        x=dat1.year,\n",
    "        y=dat1['msprice'],\n",
    "        name = \"Minimum Support Price\",\n",
    "        line = dict(color = '#7F7F7F'),\n",
    "        opacity = 0.8)\n",
    "\n",
    "    data = [high,low]\n",
    "\n",
    "    layout = dict(\n",
    "        title=\"Comparing Modal Price with Deseasonalised Prices\",\n",
    "        xaxis=dict(\n",
    "            rangeselector=dict(\n",
    "                buttons=list([\n",
    "                    dict(count=1,\n",
    "                         label='1m',\n",
    "                         step='month',\n",
    "                         stepmode='backward'),\n",
    "                    dict(count=6,\n",
    "                         label='6m',\n",
    "                         step='month',\n",
    "                         stepmode='backward'),\n",
    "                    dict(step='all')\n",
    "                ])\n",
    "            ),\n",
    "            rangeslider=dict(\n",
    "                visible = True\n",
    "            ),\n",
    "            type='date'\n",
    "        )\n",
    "    )\n",
    "\n",
    "    fig = dict(data=data, layout=layout)\n",
    "    iplot(fig, filename = \"Time Series with Rangeslider\")\n",
    "    \n",
    "\n",
    "\n",
    "def plot_msp_price():\n",
    "    commodity = str(input(\"Give an input commodity\"))\n",
    "    apmc = str(input(\"Give APMC\"))\n",
    "    commodity = commodity.lower()\n",
    "    apmc= apmc.lower()\n",
    "    join = commodity+\"_\"+apmc\n",
    "    if join in non_stationary.joined.values:\n",
    "        temp = non_stationary.loc[non_stationary['joined']==join]\n",
    "        temp = temp[['modal_price','date','deseasonalised']] \n",
    "        if commodity in mandi_data.commodity.values:\n",
    "            temp1 = mandi_data.loc[mandi_data['commodity']==commodity]\n",
    "            plot_graph(temp,temp1)\n",
    "        else:\n",
    "            print(\"Commodity not in Mandi data, please try again\")\n",
    "            plot_msp_price()\n",
    "    else:\n",
    "        print(\"Given APMC and Commodity combination does not exist!\\nPlease try again\")\n",
    "        plot_msp_price()"
   ]
  },
  {
   "cell_type": "code",
   "execution_count": 19,
   "metadata": {},
   "outputs": [
    {
     "name": "stdout",
     "output_type": "stream",
     "text": [
      "Give an input commoditymaize\n",
      "Give APMCmalegaon\n"
     ]
    },
    {
     "data": {
      "application/vnd.plotly.v1+json": {
       "config": {
        "linkText": "Export to plot.ly",
        "plotlyServerURL": "https://plot.ly",
        "showLink": true
       },
       "data": [
        {
         "line": {
          "color": "#17BECF"
         },
         "name": "Deseasonalised Prices",
         "opacity": 0.8,
         "type": "scatter",
         "uid": "fd168c18-4def-486e-8633-192923d52de3",
         "x": [
          "2014-11-01",
          "2014-12-01",
          "2014-12-01",
          "2015-01-01",
          "2015-02-01",
          "2015-03-01",
          "2015-04-01",
          "2015-05-01",
          "2015-06-01",
          "2015-07-01",
          "2015-08-01",
          "2015-09-01",
          "2015-10-01",
          "2015-11-01",
          "2015-12-01",
          "2015-12-01",
          "2016-01-01",
          "2016-02-01",
          "2016-03-01",
          "2016-06-01",
          "2016-07-01",
          "2016-08-01",
          "2016-09-01"
         ],
         "y": [
          988.3182341469037,
          1313.8229466266032,
          1313.8229466266032,
          1144.2636642803834,
          1234.509082965275,
          1272.1429577993476,
          1151.3559203461157,
          1158.2059543586474,
          1259.9192184637027,
          1289.3751731639607,
          1352.3266927393202,
          1431.076488747529,
          1190.0413458430264,
          1396.823104260957,
          1313.8229466266032,
          1313.8229466266032,
          1439.0435116493945,
          1544.7244871752453,
          1495.1480978119823,
          1577.7144748625399,
          1744.7780155084695,
          1751.1818380999698,
          1700.9210224600047
         ]
        },
        {
         "line": {
          "color": "#7F7F7F"
         },
         "name": "Minimum Support Price",
         "opacity": 0.8,
         "type": "scatter",
         "uid": "717356ab-3635-46ab-b9b7-d25712faabbc",
         "x": [
          2012,
          2013,
          2014,
          2015,
          2016
         ],
         "y": [
          1175,
          1310,
          1310,
          1325,
          1365
         ]
        }
       ],
       "layout": {
        "title": "Comparing Modal Price with Deseasonalised Prices",
        "xaxis": {
         "rangeselector": {
          "buttons": [
           {
            "count": 1,
            "label": "1m",
            "step": "month",
            "stepmode": "backward"
           },
           {
            "count": 6,
            "label": "6m",
            "step": "month",
            "stepmode": "backward"
           },
           {
            "step": "all"
           }
          ]
         },
         "rangeslider": {
          "visible": true
         },
         "type": "date"
        }
       }
      },
      "text/html": [
       "<div id=\"78ca63e9-6410-4ed7-be08-895d2bb4ed11\" style=\"height: 525px; width: 100%;\" class=\"plotly-graph-div\"></div><script type=\"text/javascript\">require([\"plotly\"], function(Plotly) { window.PLOTLYENV=window.PLOTLYENV || {};window.PLOTLYENV.BASE_URL=\"https://plot.ly\";Plotly.newPlot(\"78ca63e9-6410-4ed7-be08-895d2bb4ed11\", [{\"line\": {\"color\": \"#17BECF\"}, \"name\": \"Deseasonalised Prices\", \"opacity\": 0.8, \"x\": [\"2014-11-01\", \"2014-12-01\", \"2014-12-01\", \"2015-01-01\", \"2015-02-01\", \"2015-03-01\", \"2015-04-01\", \"2015-05-01\", \"2015-06-01\", \"2015-07-01\", \"2015-08-01\", \"2015-09-01\", \"2015-10-01\", \"2015-11-01\", \"2015-12-01\", \"2015-12-01\", \"2016-01-01\", \"2016-02-01\", \"2016-03-01\", \"2016-06-01\", \"2016-07-01\", \"2016-08-01\", \"2016-09-01\"], \"y\": [988.3182341469037, 1313.8229466266032, 1313.8229466266032, 1144.2636642803834, 1234.509082965275, 1272.1429577993476, 1151.3559203461157, 1158.2059543586474, 1259.9192184637027, 1289.3751731639607, 1352.3266927393202, 1431.076488747529, 1190.0413458430264, 1396.823104260957, 1313.8229466266032, 1313.8229466266032, 1439.0435116493945, 1544.7244871752453, 1495.1480978119823, 1577.7144748625399, 1744.7780155084695, 1751.1818380999698, 1700.9210224600047], \"type\": \"scatter\", \"uid\": \"a953c5a9-752e-47d9-9c09-f1fdff1a9ba1\"}, {\"line\": {\"color\": \"#7F7F7F\"}, \"name\": \"Minimum Support Price\", \"opacity\": 0.8, \"x\": [2012, 2013, 2014, 2015, 2016], \"y\": [1175.0, 1310.0, 1310.0, 1325.0, 1365.0], \"type\": \"scatter\", \"uid\": \"f7597035-8775-482e-b067-b45131cf1c65\"}], {\"title\": \"Comparing Modal Price with Deseasonalised Prices\", \"xaxis\": {\"rangeselector\": {\"buttons\": [{\"count\": 1, \"label\": \"1m\", \"step\": \"month\", \"stepmode\": \"backward\"}, {\"count\": 6, \"label\": \"6m\", \"step\": \"month\", \"stepmode\": \"backward\"}, {\"step\": \"all\"}]}, \"rangeslider\": {\"visible\": true}, \"type\": \"date\"}}, {\"showLink\": true, \"linkText\": \"Export to plot.ly\", \"plotlyServerURL\": \"https://plot.ly\"})});</script><script type=\"text/javascript\">window.addEventListener(\"resize\", function(){window._Plotly.Plots.resize(document.getElementById(\"78ca63e9-6410-4ed7-be08-895d2bb4ed11\"));});</script>"
      ],
      "text/vnd.plotly.v1+html": [
       "<div id=\"78ca63e9-6410-4ed7-be08-895d2bb4ed11\" style=\"height: 525px; width: 100%;\" class=\"plotly-graph-div\"></div><script type=\"text/javascript\">require([\"plotly\"], function(Plotly) { window.PLOTLYENV=window.PLOTLYENV || {};window.PLOTLYENV.BASE_URL=\"https://plot.ly\";Plotly.newPlot(\"78ca63e9-6410-4ed7-be08-895d2bb4ed11\", [{\"line\": {\"color\": \"#17BECF\"}, \"name\": \"Deseasonalised Prices\", \"opacity\": 0.8, \"x\": [\"2014-11-01\", \"2014-12-01\", \"2014-12-01\", \"2015-01-01\", \"2015-02-01\", \"2015-03-01\", \"2015-04-01\", \"2015-05-01\", \"2015-06-01\", \"2015-07-01\", \"2015-08-01\", \"2015-09-01\", \"2015-10-01\", \"2015-11-01\", \"2015-12-01\", \"2015-12-01\", \"2016-01-01\", \"2016-02-01\", \"2016-03-01\", \"2016-06-01\", \"2016-07-01\", \"2016-08-01\", \"2016-09-01\"], \"y\": [988.3182341469037, 1313.8229466266032, 1313.8229466266032, 1144.2636642803834, 1234.509082965275, 1272.1429577993476, 1151.3559203461157, 1158.2059543586474, 1259.9192184637027, 1289.3751731639607, 1352.3266927393202, 1431.076488747529, 1190.0413458430264, 1396.823104260957, 1313.8229466266032, 1313.8229466266032, 1439.0435116493945, 1544.7244871752453, 1495.1480978119823, 1577.7144748625399, 1744.7780155084695, 1751.1818380999698, 1700.9210224600047], \"type\": \"scatter\", \"uid\": \"a953c5a9-752e-47d9-9c09-f1fdff1a9ba1\"}, {\"line\": {\"color\": \"#7F7F7F\"}, \"name\": \"Minimum Support Price\", \"opacity\": 0.8, \"x\": [2012, 2013, 2014, 2015, 2016], \"y\": [1175.0, 1310.0, 1310.0, 1325.0, 1365.0], \"type\": \"scatter\", \"uid\": \"f7597035-8775-482e-b067-b45131cf1c65\"}], {\"title\": \"Comparing Modal Price with Deseasonalised Prices\", \"xaxis\": {\"rangeselector\": {\"buttons\": [{\"count\": 1, \"label\": \"1m\", \"step\": \"month\", \"stepmode\": \"backward\"}, {\"count\": 6, \"label\": \"6m\", \"step\": \"month\", \"stepmode\": \"backward\"}, {\"step\": \"all\"}]}, \"rangeslider\": {\"visible\": true}, \"type\": \"date\"}}, {\"showLink\": true, \"linkText\": \"Export to plot.ly\", \"plotlyServerURL\": \"https://plot.ly\"})});</script><script type=\"text/javascript\">window.addEventListener(\"resize\", function(){window._Plotly.Plots.resize(document.getElementById(\"78ca63e9-6410-4ed7-be08-895d2bb4ed11\"));});</script>"
      ]
     },
     "metadata": {},
     "output_type": "display_data"
    }
   ],
   "source": [
    "plot_msp_price()"
   ]
  }
 ],
 "metadata": {
  "kernelspec": {
   "display_name": "Python 3",
   "language": "python",
   "name": "python3"
  },
  "language_info": {
   "codemirror_mode": {
    "name": "ipython",
    "version": 3
   },
   "file_extension": ".py",
   "mimetype": "text/x-python",
   "name": "python",
   "nbconvert_exporter": "python",
   "pygments_lexer": "ipython3",
   "version": "3.6.6"
  }
 },
 "nbformat": 4,
 "nbformat_minor": 2
}
